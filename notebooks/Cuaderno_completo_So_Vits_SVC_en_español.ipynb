{
  "nbformat": 4,
  "nbformat_minor": 0,
  "metadata": {
    "colab": {
      "provenance": [],
      "include_colab_link": true
    },
    "kernelspec": {
      "name": "python3",
      "display_name": "Python 3"
    },
    "language_info": {
      "name": "python"
    },
    "accelerator": "GPU",
    "gpuClass": "standard"
  },
  "cells": [
    {
      "cell_type": "markdown",
      "metadata": {
        "id": "view-in-github",
        "colab_type": "text"
      },
      "source": [
        "<a href=\"https://colab.research.google.com/github/rmcpantoja/My-Colab-Notebooks/blob/main/notebooks/Cuaderno_completo_So_Vits_SVC_en_espa%C3%B1ol.ipynb\" target=\"_parent\"><img src=\"https://colab.research.google.com/assets/colab-badge.svg\" alt=\"Open In Colab\"/></a>"
      ]
    },
    {
      "cell_type": "markdown",
      "source": [
        "<b><font color=\"pink\" size=\"+2\"> Cuaderno completo de So-Vits SVC en español. (Entrenamiento + Inferencia)\n",
        "---\n",
        "## Siga los pasos, ejecutando las celdas en orden, para utilizar.\n",
        "---\n",
        "###Créditos:\n",
        "\n",
        "* Cuaderno elaborado por: [rmcpantoja](https://github.com/rmcpantoja) y [Xx_Nessu_xX](https://fakeyou.com/profile/Xx_Nessu_xX)\n",
        "* Cuaderno usado de base por: [IA HISPANO](https://colab.research.google.com/drive/1tR10bWZmQOTrXBnbOW-Ir84h66o2b633#scrollTo=g7o4_4zL5pAs)\n",
        "* Cuaderno usado de base por: [Justin John](https://colab.research.google.com/github/justinjohn0306/so-vits-svc-4.0-v2/blob/main/sovits4v2_training_testing.ipynb#scrollTo=wmUkpUmfn_Hs)\n",
        "* Repositorio de GitHub de [SoVits-SVC](https://github.com/justinjohn0306/so-vits-svc-4.0-v2)\n",
        "\n",
        "###Agradecimientos:\n",
        "\n",
        "* Testeadores del cuaderno: [Exink14](https://fakeyou.com/profile/exinkvoices1410), [Jawi95_](https://www.youtube.com/@jawi95_) y `Eduardo Petrini`.\n"
      ],
      "metadata": {
        "id": "0-MHdvvRxMtw"
      }
    },
    {
      "cell_type": "markdown",
      "source": [
        "# <font color=\"pink\"> 🔧 ***Preparación del proyecto.*** 🔧\n",
        "\n",
        "Puedes ejecutar toda esta sección tanto para el entrenamiento como para la inferencia, en el caso de que estés ejecutando este cuaderno por primera vez."
      ],
      "metadata": {
        "id": "IJ3Go8o65Q_N"
      }
    },
    {
      "cell_type": "code",
      "source": [
        "#@markdown # <font color=\"pink\"> **Google Colab Anti-Disconnect.** 🔌\n",
        "#@markdown ---\n",
        "#@markdown #### Evita la desconexión automática. Aun así, se desconectará después de <font color=\"orange\">**6 a 12 horas**</font>.\n",
        "\n",
        "import IPython\n",
        "js_code = '''\n",
        "function ClickConnect(){\n",
        "console.log(\"Working\");\n",
        "document.querySelector(\"colab-toolbar-button#connect\").click()\n",
        "}\n",
        "setInterval(ClickConnect,60000)\n",
        "'''\n",
        "display(IPython.display.Javascript(js_code))"
      ],
      "metadata": {
        "cellView": "form",
        "id": "qyxSMuzjfQrz"
      },
      "execution_count": null,
      "outputs": []
    },
    {
      "cell_type": "code",
      "source": [
        "#@markdown # <font color=\"pink\"> **Comprobar GPU asignada.** 👁️\n",
        "!nvidia-smi\n",
        "#@markdown ---\n",
        "#@markdown #### Una GPU con mayor capacidad puede llevar a mayor velocidad de entrenamiento. Por defecto, tendrás una <font color=\"orange\">**Tesla T4**</font>."
      ],
      "metadata": {
        "cellView": "form",
        "id": "MUf1cKHk7WTt"
      },
      "execution_count": null,
      "outputs": []
    },
    {
      "cell_type": "code",
      "source": [
        "#@markdown # <font color=\"pink\"> **Montar Google Drive.** 📂\n",
        "#@markdown ---\n",
        "#@markdown **Se necesita como mínimo <font color=\"orange\">2 GB</font> de espacio libre.**\n",
        "from google.colab import drive\n",
        "drive.mount(\"/content/drive\")"
      ],
      "metadata": {
        "id": "b48Q4eeQ9KDh",
        "cellView": "form"
      },
      "execution_count": null,
      "outputs": []
    },
    {
      "cell_type": "code",
      "source": [
        "#@markdown # <font color=\"pink\"> **Instalar software.** 📦\n",
        "#@markdown ---\n",
        "#@markdown En esta celda se instalará todo lo necesario para el funcionamiento del cuaderno.\n",
        "\n",
        "#@markdown <font color=\"orange\">**Nota importante: por favor, reinicia el entorno de ejecución cuando termine esta celda de ejecutarse. A continuación, ejecuta nuevamente esta celda y sigue tu camino. (Sea entrenamiento o inferencia.)**\n",
        "#@markdown #### Versión a usar:\n",
        "#@markdown **(Se recomienda 4.0 (mejorado) para compatibilidad al cargar modelos para [FakeYou](https://fakeyou.com/) o [Uberduck](https://uberduck.ai/)). 4.0-v2 para resultados ligeramente mejores en la inferencia. Sin embargo, no es compatible con estas webs ya mencionadas.**\n",
        "%cd /content\n",
        "import os\n",
        "version = \"4.0 (mejorado)\" #@param [\"4.0\", \"4.0 (mejorado)\", \"4.0-v2\"]\n",
        "if not os.path.exists(\"/content/so-vits-svc\"):\n",
        "    if version == \"4.0 (mejorado)\":\n",
        "        !python -m pip install -U pip wheel\n",
        "        !pip install -U git+https://github.com/34j/so-vits-svc-fork@9c8df717ae433fe3f3e2ef6ee49a1a165c66cf03\n",
        "    else:\n",
        "        !git clone https://github.com/rmcpantoja/so-vits-svc -b {version}\n",
        "if os.path.exists(\"/content/so-vits-svc\"):\n",
        "    %cd /content/so-vits-svc\n",
        "    !pip install --upgrade pip setuptools numpy numba gdown\n",
        "    !pip install pyworld praat-parselmouth fairseq tensorboardX librosa==0.9.1\n",
        "    !pip install torch==1.13.1+cu117 torchvision==0.14.1+cu117 torchaudio==0.13.1 --extra-index-url https://download.pytorch.org/whl/cu117\n",
        "if not version == \"4.0 (mejorado)\":\n",
        "    if not os.path.exists(\"/content/so-vits-svc/hubert/checkpoint_best_legacy_500.pt\"):\n",
        "        if version == \"4.0\":\n",
        "            !wget -P hubert/ https://huggingface.co/justinjohn-03/so-vits-svc-4.0/resolve/main/checkpoint_best_legacy_500.pt\n",
        "        else:\n",
        "            !wget -P hubert/ https://huggingface.co/justinjohn-03/so-vits-svc-4.0-v2-pretrained/resolve/main/checkpoint_best_legacy_500.pt\n",
        "else:\n",
        "  print(\"Descargando parches...\")\n",
        "  !gdown \"1-3MXtoGQiIjTSobFXEcwRIFu8qB6Ya-v\" -O \"/usr/local/lib/python3.10/dist-packages/so_vits_svc_fork/train.py\""
      ],
      "metadata": {
        "cellView": "form",
        "id": "btqU_fJS_vax"
      },
      "execution_count": null,
      "outputs": []
    },
    {
      "cell_type": "markdown",
      "source": [
        "# <font color=\"pink\"> 🤖 ***Entrenamiento.*** 🤖"
      ],
      "metadata": {
        "id": "eiuDhT2cZ9c5"
      }
    },
    {
      "cell_type": "code",
      "source": [
        "#@markdown # <font color=\"pink\"> **Configuración.** 🧰\n",
        "if not version == \"4.0 (mejorado)\":\n",
        "    %cd /content/so-vits-svc\n",
        "else:\n",
        "    !mkdir -p \"dataset_raw\"\n",
        "import os\n",
        "\n",
        "#@markdown ---\n",
        "#@markdown #### Procesamiento de voz\n",
        "#@markdown <font color=\"orange\">**Método que se va a usar:**\n",
        "mode = \"una sola voz\" #@param [\"una sola voz\", \"varias voces\"]\n",
        "#@markdown <font color=\"orange\">**¿Ruta de los audios?**</font>\n",
        "#@markdown Esta tendrá que estar comprimida en un archivo zip. Sin embargo, algunos puntos a tomar en cuenta:\n",
        "#@markdown * Los audios de la voz deberán estar recortados de entre 9-15 segundos.\n",
        "#@markdown * Si seleccionas el método para varias voces, asegúrate de que el zip tenga una carpeta por voz, además de que el nombre del cantante se tomará en cuenta solamente para la ruta de guardado, pero el modelo puede tener tantas voces con los nombres diferentes mientras sea posible, así que puedes elegir un nombre claro y conciso. Ejemplo: \"Grupo 5\"\n",
        "#@markdown * Caso contrario, pon el nombre del cantante en el campo respectivo, ya que también es importante para establecerlo como único hablante (en la configuración del modelo) y como nombre de carpeta en el directorio de trabajo.\n",
        "zip_path = \"/content/drive/MyDrive/wavs.zip\" #@param {type:\"string\"}\n",
        "#@markdown **Nombre del cantante:**\n",
        "voicename = \"Cantante\" #@param {type:\"string\"}\n",
        "if not os.path.exists(zip_path):\n",
        "  raise Exception(\"¡Este archivo zip no existe! Por favor, comprueba que no hay errores tipográficos al establecer la ruta.\")\n",
        "print(\"Extrayendo audio...\")\n",
        "if mode == \"una sola voz\":\n",
        "  if not version == \"4.0 (mejorado)\":\n",
        "    folder = \"/content/so-vits-svc/dataset_raw/\"+voicename\n",
        "  else:\n",
        "    folder = \"/content/dataset_raw/\"+voicename\n",
        "  !mkdir \"{folder}\"\n",
        "  !unzip -q \"{zip_path}\" -d \"{folder}\"\n",
        "else:\n",
        "  if not version == \"4.0 (mejorado)\":\n",
        "    !unzip -q \"{zip_path}\" -d /content/so-vits-svc/dataset_raw\n",
        "  else:\n",
        "    !unzip -q \"{zip_path}\" -d /content/dataset_raw\n",
        "#@markdown **Remuestrar audios**\n",
        "\n",
        "#@markdown El formato compatible para el entrenamiento es de <font color=\"orange\">**44khz, 16bits, mono.**</font> Si no tienes los audios con este formato, habilita la casilla para hacer la conversión.\n",
        "resample = True #@param {type:\"boolean\"}\n",
        "if resample:\n",
        "  print(\"Remuestrando audios...\")\n",
        "  if not version == \"4.0 (mejorado)\":\n",
        "    !python resample.py\n",
        "  else:\n",
        "    !svc pre-resample\n",
        "else:\n",
        "  if not version == \"4.0 (mejorado)\":\n",
        "    !mv /content/so-vits-svc/dataset_raw/* /content/so-vits-svc/dataset\n",
        "#@markdown #### **Guardado**\n",
        "#@markdown <font color=\"orange\">**¿Dónde guardar el trabajo?**</font>\n",
        "#@markdown Se recomienda guardarlo en drive.\n",
        "save_dir = \"/content/drive/MyDrive/SoVits\" #@param {type:\"string\"}\n",
        "if not os.path.exists(save_dir):\n",
        "    os.makedirs(save_dir)\n",
        "if version == \"4.0 (mejorado)\":\n",
        "    if not os.path.exists(save_dir+\"/\"+voicename):\n",
        "        os.makedirs(save_dir+\"/\"+voicename)\n",
        "#@markdown #### **¿Usar el modelo preentrenado?** (Obligatorio)\n",
        "#@markdown Activa esta casilla si no tienes suficientes horas de audio. Siendo así, se recomiendan <font color=\"orange\">**15 minutos como mínimo.**<br>***ESTA CASILLA DEBES DESACTIVARLA SI VAS A SEGUIR UN ENTRENAMIENTO.***</font>\n",
        "pre_pth = True #@param {type:\"boolean\"}\n",
        "if pre_pth:\n",
        "  if not version == \"4.0 (mejorado)\":\n",
        "    if not os.path.exists(save_dir+\"/\"+voicename):\n",
        "      print(\"Descargando modelo preentrenado...\")\n",
        "      if version == \"4.0\":\n",
        "        !wget -P {save_dir}/{voicename}/ https://huggingface.co/justinjohn-03/so-vits-svc-4.0/resolve/main/G_0.pth\n",
        "        !wget -P {save_dir}/{voicename}/ https://huggingface.co/justinjohn-03/so-vits-svc-4.0/resolve/main/D_0.pth\n",
        "      else:\n",
        "        !wget -P {save_dir}/{voicename}/ https://huggingface.co/justinjohn-03/so-vits-svc-4.0-v2-pretrained/resolve/main/G_0.pth\n",
        "        !wget -P {save_dir}/{voicename}/ https://huggingface.co/justinjohn-03/so-vits-svc-4.0-v2-pretrained/resolve/main/D_0.pth\n",
        "    else:\n",
        "      print(\"¡Aviso! Tienes activada la opción de usar modelo preentrenado, pero ¡hemos detectado que este modelo ya se ha entrenado anteriormente! Por lo tanto, asumiremos que lo quieres continuar. No se descargará.\")\n",
        "#@markdown **Selecciona el método de extracción de tono (F_O):**\n",
        "\n",
        "#@markdown  <font color=\"orange\">**Nota: esta opción tiene efecto solamente para la versión 4.0 mejorada.**\n",
        "F0_METHOD = \"dio\" #@param [\"crepe\", \"crepe-tiny\", \"parselmouth\", \"dio\", \"harvest\"]\n",
        "\n",
        "print(\"Procesando archivos...\")\n",
        "if not version == \"4.0 (mejorado)\":\n",
        "  !python preprocess_flist_config.py\n",
        "  !python preprocess_hubert_f0.py\n",
        "else:\n",
        "  !svc pre-config\n",
        "  !cp \"configs/44k/config.json\" \"{save_dir}/{voicename}\"\n",
        "  !svc pre-hubert -fm {F0_METHOD}"
      ],
      "metadata": {
        "cellView": "form",
        "id": "4c8EPI66AQuE"
      },
      "execution_count": null,
      "outputs": []
    },
    {
      "cell_type": "code",
      "source": [
        "#@markdown # <font color=\"pink\"> **Ejecutar la extensión TensorBoard.** 📈\n",
        "#@markdown ---\n",
        "#@markdown Aquí puedes visualizar los datos del entrenamiento, tales como audios y gráficas.\n",
        "%load_ext tensorboard\n",
        "%tensorboard --logdir {save_dir}"
      ],
      "metadata": {
        "cellView": "form",
        "id": "MZqX21bWag9l"
      },
      "execution_count": null,
      "outputs": []
    },
    {
      "cell_type": "code",
      "source": [
        "#@markdown # <font color=\"pink\"> **Comenzar el entrenamiento.** 🏋️‍♂️\n",
        "#@markdown ---\n",
        "#@markdown Se recomienda entrenar un mínimo de <font color=\"orange\">**5.000 pasos**</font> para que sea decente.\n",
        "if not version == \"4.0 (mejorado)\":\n",
        "  !python train.py -c configs/config.json -m {voicename} -p {save_dir}\n",
        "else:\n",
        "  !svc train --model-path \"{save_dir}/{voicename}\""
      ],
      "metadata": {
        "cellView": "form",
        "id": "Kf2L1J-3a1kt"
      },
      "execution_count": null,
      "outputs": []
    },
    {
      "cell_type": "markdown",
      "source": [
        "# <font color=\"pink\"> 🗣️ ***Inferencia.*** 🗣️\n",
        "\n",
        "### Asumiendo que ejecutas el apartado de <font color=\"orange\">**preparación del proyecto**</font>, puedes proceder a ejecutar esta sección para probar un modelo previamente entrenado."
      ],
      "metadata": {
        "id": "nA3MmVys0J9j"
      }
    },
    {
      "cell_type": "code",
      "source": [
        "#@markdown # <font color=\"pink\"> **Gestionar modelos.** 📊\n",
        "#@markdown ---\n",
        "#@markdown Si quieres descargar un modelo nuevo o cambiar otro, puedes hacerlo desde aquí:\n",
        "\n",
        "#@markdown <font color=\"orange\">**ID o enlace de Google Drive</font> del archivo del modelo a descargar:**\n",
        "model_id = \"\" #@param {type:\"string\"}\n",
        "#@markdown <font color=\"orange\">**ID o enlace de Google Drive</font> del archivo de configuración (config.json):**\n",
        "config_id = \"\" #@param {type:\"string\"}\n",
        "if version == \"4.0 (mejorado)\":\n",
        "  !mkdir /content/so-vits-svc\n",
        "  !mkdir /content/so-vits-svc/logs\n",
        "  !mkdir /content/so-vits-svc/logs/44k\n",
        "  !mkdir /content/so-vits-svc/raw\n",
        "  !mkdir /content/so-vits-svc/results\n",
        "%cd /content/so-vits-svc\n",
        "#descarga los archivos:\n",
        "if model_id.startswith(\"1\"):\n",
        "  !gdown \"{model_id}\" -O \"/content/so-vits-svc/logs/44k/pretrained.pth\"\n",
        "elif model_id.startswith(\"https://drive.google.com/file/d/\"):\n",
        "  !gdown \"{model_id}\" -O \"/content/so-vits-svc/logs/44k/pretrained.pth\" --fuzzy\n",
        "else:\n",
        "  !wget \"{model_id}\" -O \"/content/so-vits-svc/logs/44k/pretrained.pth\"\n",
        "if config_id.startswith(\"1\"):\n",
        "  !gdown \"{config_id}\" -O \"/content/so-vits-svc/logs/44k/config.json\"\n",
        "elif config_id.startswith(\"https://drive.google.com/file/d/\"):\n",
        "  !gdown \"{config_id}\" -O \"/content/so-vits-svc/logs/44k/config.json\" --fuzzy\n",
        "else:\n",
        "  !wget \"{config_id}\" -O \"/content/so-vits-svc/logs/44k/config.json\""
      ],
      "metadata": {
        "cellView": "form",
        "id": "RNciTBS5398Y"
      },
      "execution_count": null,
      "outputs": []
    },
    {
      "cell_type": "code",
      "source": [
        "#@markdown # <font color=\"pink\"> **Ejecutar la inferencia.** 🔊\n",
        "from IPython.display import Audio, display\n",
        "import os\n",
        "#@markdown **Selecciona el modo de subida del audio:**\n",
        "\n",
        "#@markdown Para el modo manual, sube tu audio desde el panel izquierdo <font color=\"orange\">**(carpeta So-Vits-SVC/raw)**</font> y pon el nombre del audio que has subido en el campo de edición; o, de lo contrario, sube tu audio en el panel que se te mostrará al ejecutar la celda:\n",
        "\n",
        "upload_mode = \"Manual\" #@param [\"Automático\", \"Manual\"]\n",
        "if upload_mode == \"Automático\":\n",
        "  %cd /content/so-vits-svc/raw\n",
        "  from google.colab import files\n",
        "  wav_filename, length = files.upload().popitem()\n",
        "  %cd ..\n",
        "else:\n",
        "  #@markdown **¿Cuál es el nombre del archivo de audio a convertir?**\n",
        "  wav_filename = \"miaudio.wav\" #@param {type:\"string\"}\n",
        "audio_ruta = \"/content/so-vits-svc/raw/\"+wav_filename\n",
        "if not os.path.exists(audio_ruta):\n",
        "  raise Exception(f\"El audio especificado no existe. Por favor, verifica que este existe: {audio_ruta}\")\n",
        "#@markdown **Nombre del hablante de los establecidos previamente en la configuración de tu modelo:**\n",
        "speaker = \"Cantante\" #@param {type:\"string\"}\n",
        "#@markdown **Tono de la voz. Puedes jugar con esto según el rango vocal de la voz entrenada. Ten en cuenta que valores mayores o menores al rango puede sonar forzado.**\n",
        "trans = 0 #@param {type:\"integer\"}\n",
        "cluster_infer_ratio = \"0\"\n",
        "config_path = \"/content/so-vits-svc/logs/44k/config.json\"\n",
        "if not os.path.exists(config_path):\n",
        "  raise Exception(\"El archivo de configuración no existe. Asumo que falló al descargar. En todo caso, ejecuta la celda de gestionar modelos para verificar si hay errores.\")\n",
        "model_path = \"/content/so-vits-svc/logs/44k/pretrained.pth\"\n",
        "if not os.path.exists(model_path):\n",
        "  raise Exception(\"Ups, parece que el modelo falló al descargar. Ejecuta nuevamente la celda de gestión de modelos y comprueba si hay errores.\")\n",
        "slice_db = \"-40\"\n",
        "#@markdown **Elige el formato de audio de exportación:**\n",
        "wav_format = \"wav\"  #@param [\"flac\", \"ogg\", \"wav\"]\n",
        "wav_output = \"/content/so-vits-svc/results/\" + wav_filename + \"_\" + trans + \"key\" + \"_\" + speaker + \".\" + wav_format\n",
        "\n",
        "#@markdown **Selecciona el método de extracción de tono:**\n",
        "F0_METHOD = \"dio\" #@param [\"crepe\", \"crepe-tiny\", \"parselmouth\", \"dio\", \"harvest\"]\n",
        "#@markdown **¿Activar predicción F_0?**<br>\n",
        "#@markdown <font color=\"orange\">**Solo sirve en los modelos 4.0 mejorados.**\n",
        "\n",
        "#@markdown Activado para habla, desactivado para canto.\n",
        "auto_f0 = False #@param {type:\"boolean\"}\n",
        "if auto_f0:\n",
        "  autof0 = \"-a\"\n",
        "else:\n",
        "  autof0 = \"-na\"\n",
        "#@markdown <font color=\"orange\">**Nota: si al ejecutar la celda obtienes el error llamado: \"can't convert string to float\", asegúrate de haber reiniciado el entorno de ejecución, ejecutar nuevamente la celda de instalación de software e inferencia.**\n",
        "if not version == \"4.0 (mejorado)\":\n",
        "  !python inference_main.py -n {wav_filename} -m {model_path} -c {config_path} -s {speaker} -t {trans} -cr {cluster_infer_ratio} -sd {slice_db} -wf {wav_format}\n",
        "else:\n",
        "  !svc infer {audio_ruta} -m {model_path} -c {config_path} -s {speaker} -t {trans} -r {cluster_infer_ratio} -db {slice_db} -o \"{wav_output}\" -fm {F0_METHOD} {autof0}\n",
        "Audio(wav_output, rate=44100)"
      ],
      "metadata": {
        "id": "1xN3fEVe6HIg",
        "cellView": "form"
      },
      "execution_count": null,
      "outputs": []
    },
    {
      "cell_type": "markdown",
      "source": [
        "# <font color=\"pink\"> 📓 ***Cuadernos relacionados o de interés.*** 📓\n",
        "\n",
        "* [VITS: Codificador automático variacional condicional con aprendizaje adversario para texto a voz de extremo a extremo. (en español, beta)](https://colab.research.google.com/github/rmcpantoja/My-Colab-Notebooks/blob/main/notebooks/cuaderno_de_entrenamiento_VITS_en_espa%C3%B1ol.ipynb)"
      ],
      "metadata": {
        "id": "MdHYwqk6Lm8g"
      }
    }
  ]
}