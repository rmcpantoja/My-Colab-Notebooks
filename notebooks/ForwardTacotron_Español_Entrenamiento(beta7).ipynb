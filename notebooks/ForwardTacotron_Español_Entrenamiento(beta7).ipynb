{
  "nbformat": 4,
  "nbformat_minor": 0,
  "metadata": {
    "colab": {
      "provenance": [],
      "collapsed_sections": [
        "z1LjflTed9mE",
        "-ognVXccZjDg",
        "_TKXe-ttOtJh"
      ],
      "include_colab_link": true
    },
    "kernelspec": {
      "name": "python3",
      "display_name": "Python 3"
    },
    "language_info": {
      "name": "python"
    },
    "accelerator": "GPU",
    "gpuClass": "standard"
  },
  "cells": [
    {
      "cell_type": "markdown",
      "metadata": {
        "id": "view-in-github",
        "colab_type": "text"
      },
      "source": [
        "<a href=\"https://colab.research.google.com/github/rmcpantoja/My-Colab-Notebooks/blob/main/notebooks/ForwardTacotron_Espa%C3%B1ol_Entrenamiento(beta7).ipynb\" target=\"_parent\"><img src=\"https://colab.research.google.com/assets/colab-badge.svg\" alt=\"Open In Colab\"/></a>"
      ]
    },
    {
      "cell_type": "markdown",
      "source": [
        "# Cuaderno de entrenamiento de `Forward Tacotron` (En español).\n",
        "Este cuaderno ha sido desarrollado por [rmcpantoja](https://github.com/rmcpantoja).\n",
        "\n",
        "Colaborador y corrector del cuaderno: [Xx_Nessu_XX](https://fakeyou.com/profile/Xx_Nessu_xX)\n",
        "## Créditos:\n",
        "\n",
        "* Repositorio de [as-ideas/ForwardTacotron](https://github.com/as-ideas/ForwardTacotron).\n",
        "\n",
        "\n",
        "### <ins>¡IMPORTANTE!</ins>:\n",
        "\n",
        "* Por ahora, este cuaderno no está óptimo para entrenar con conjuntos de datos pequeños. Estoy planeando hacer un modelo preentrenado con un dataset 24 horas.\n",
        "\n",
        "\n",
        "*Última actualización: 23/02/2023*"
      ],
      "metadata": {
        "id": "uoBeS27om4F-"
      }
    },
    {
      "cell_type": "code",
      "source": [
        "#@markdown ### Comprobar la GPU asignada.\n",
        "#@markdown ---\n",
        "#@markdown Necesitas una `Tesla T4` como mínimo. Si tienes una GPU como `K80`, ve a la barra de menús y selecciona Entorno de ejecución > Desconectarse y eliminar entorno de ejecución.\n",
        "#@markdown * También puedes ejecutar este cuaderno sin GPU (No recomendado) desactivando la aceleración de hardware en la configuración del cuaderno.\n",
        "!nvidia-smi -L"
      ],
      "metadata": {
        "cellView": "form",
        "id": "8XpLMaC8om1c"
      },
      "execution_count": null,
      "outputs": []
    },
    {
      "cell_type": "code",
      "source": [
        "#@markdown ### Montar Google drive.\n",
        "#@markdown ---\n",
        "#@markdown Esto es muy importante para almacenar los puntos de control y los conjuntos de datos procesados con los que Forward Tacotron podrá trabajar. Sin embargo, algunas notas importantes:\n",
        "#@markdown * Es importante que verifiques tu espacio de almacenamiento en [Drive](http://drive.google.com/). De acuerdo al tamaño del dataset, necesitas calcular una mayor cantidad de espacio disponible.\n",
        "\n",
        "from google.colab import drive\n",
        "drive.mount('/content/drive', force_remount=True)"
      ],
      "metadata": {
        "cellView": "form",
        "id": "GoIuX2WsqEHG"
      },
      "execution_count": null,
      "outputs": []
    },
    {
      "cell_type": "code",
      "source": [
        "#@markdown ## Iniciar el proceso de instalación.\n",
        "#@markdown ---\n",
        "#@markdown Esto instalará el sintetizador y otras dependencias importantes.\n",
        "#@markdown #### <font color=orange>¿Quieres utilizar la versión 3.2 de ForwardTacotron?\n",
        "\n",
        "#@markdown La versión 3.2 es la última que sólo contiene soporte para un único hablante.\n",
        "only_singlespeaker_version = True #@param {type:\"boolean\"}\n",
        "#@markdown ---\n",
        "%cd /content\n",
        "import os\n",
        "from os.path import exists\n",
        "if (not os.path.exists(\"/content/ForwardTacotron\")):\n",
        "  print(\"clonando repositorio...\")\n",
        "  !git clone https://github.com/as-ideas/ForwardTacotron\n",
        "else:\n",
        "  print(\"El repositorio de trabajo ya existe. Saltando...\")\n",
        "# pip:\n",
        "!pip install numba librosa pyworld phonemizer webrtcvad PyYAML dataclasses soundfile scipy tensorboard matplotlib unidecode inflect resemblyzer==0.1.1-dev pandas\n",
        "!pip install --upgrade gdown\n",
        "#!pip install git+https://github.com/wkentaro/gdown.git\n",
        "%cd /content/ForwardTacotron\n",
        "if only_singlespeaker_version.\n",
        "  !git checkout 632b453c6cb6d15dfe4dd168cd60c60e56731829\n",
        "!rm -r .git/\n",
        "#apt:\n",
        "!apt install espeak-ng\n",
        "!wget https://github.com/mikefarah/yq/releases/download/v4.29.2/yq_linux_amd64.tar.gz\n",
        "!tar -xvf yq_linux_amd64.tar.gz\n",
        "!mv /content/ForwardTacotron/yq_linux_amd64 /content/ForwardTacotron/yq\n",
        "#!bash install-man-page.sh\n",
        "print(\"Listo\")"
      ],
      "metadata": {
        "cellView": "form",
        "id": "kNbm8T4apkae"
      },
      "execution_count": null,
      "outputs": []
    },
    {
      "cell_type": "markdown",
      "source": [
        "# Aplicar parches.\n",
        "\n",
        "## **Ejecutar después de la celda de configuración.**"
      ],
      "metadata": {
        "id": "z1LjflTed9mE"
      }
    },
    {
      "cell_type": "code",
      "source": [
        "name = \"test\"\n",
        "from IPython.core.magic import register_line_cell_magic\n",
        "\n",
        "@register_line_cell_magic\n",
        "def writetemplate(line, cell):\n",
        "    with open(line, 'w') as f:\n",
        "        f.write(cell.format(**globals()))\n"
      ],
      "metadata": {
        "id": "cwfRdebZceU1"
      },
      "execution_count": null,
      "outputs": []
    },
    {
      "cell_type": "code",
      "source": [
        "%%writetemplate /content/ForwardTacotron/utils/paths.py\n",
        "import os\n",
        "from pathlib import Path\n",
        "\n",
        "\n",
        "class Paths:\n",
        "    \"\"\"Manages and configures the paths used by WaveRNN, Tacotron, and the data.\"\"\"\n",
        "    def __init__(self, data_path, tts_id):\n",
        "\n",
        "        # directories\n",
        "        self.base = Path(__file__).parent.parent.expanduser().resolve()\n",
        "\n",
        "        # Data Paths\n",
        "        self.data = Path(data_path).expanduser().resolve()\n",
        "        self.quant = self.data/'quant'\n",
        "        self.mel = self.data/'mel'\n",
        "        self.gta = self.data/'gta'\n",
        "        self.att_pred = self.data/'att_pred'\n",
        "        self.alg = self.data/'alg'\n",
        "        self.speaker_emb = self.data/'speaker_emb'\n",
        "        self.mean_speaker_emb = self.data/'mean_speaker_emb'\n",
        "        self.raw_pitch = self.data/'raw_pitch'\n",
        "        self.phon_pitch = self.data/'phon_pitch'\n",
        "        self.phon_energy = self.data/'phon_energy'\n",
        "        self.model_output = self.base / 'model_output'\n",
        "        self.save_dir = Path(\"{save_dir}\").expanduser().resolve()\n",
        "        self.taco_checkpoints = self.save_dir/'checkpoints/{tts_id}.tacotron'\n",
        "        self.taco_log = self.taco_checkpoints / 'logs'\n",
        "        self.forward_checkpoints = self.save_dir/'checkpoints/{tts_id}.forward'\n",
        "        self.forward_log = self.forward_checkpoints/'logs'\n",
        "\n",
        "        # pickle objects\n",
        "        self.train_dataset = self.data / 'train_dataset.pkl'\n",
        "        self.val_dataset = self.data / 'val_dataset.pkl'\n",
        "        self.text_dict = self.data / 'text_dict.pkl'\n",
        "        self.speaker_dict = self.data / 'speaker_dict.pkl'\n",
        "        self.att_score_dict = self.data / 'att_score_dict.pkl'\n",
        "\n",
        "        self.create_paths()\n",
        "\n",
        "    def create_paths(self):\n",
        "        os.makedirs(self.data, exist_ok=True)\n",
        "        os.makedirs(self.quant, exist_ok=True)\n",
        "        os.makedirs(self.mel, exist_ok=True)\n",
        "        os.makedirs(self.gta, exist_ok=True)\n",
        "        os.makedirs(self.alg, exist_ok=True)\n",
        "        os.makedirs(self.speaker_emb, exist_ok=True)\n",
        "        os.makedirs(self.mean_speaker_emb, exist_ok=True)\n",
        "        os.makedirs(self.att_pred, exist_ok=True)\n",
        "        os.makedirs(self.raw_pitch, exist_ok=True)\n",
        "        os.makedirs(self.phon_pitch, exist_ok=True)\n",
        "        os.makedirs(self.phon_energy, exist_ok=True)\n",
        "        os.makedirs(self.taco_checkpoints, exist_ok=True)\n",
        "        os.makedirs(self.forward_checkpoints, exist_ok=True)\n",
        "\n",
        "    def get_tts_named_weights(self, name):\n",
        "        \"\"\"Gets the path for the weights in a named tts checkpoint.\"\"\"\n",
        "        return self.taco_checkpoints / f'{name}_weights.pyt'\n",
        "\n",
        "    def get_tts_named_optim(self, name):\n",
        "        \"\"\"Gets the path for the optimizer state in a named tts checkpoint.\"\"\"\n",
        "        return self.taco_checkpoints / f'{name}_optim.pyt'\n",
        "\n",
        "    def get_voc_named_weights(self, name):\n",
        "        \"\"\"Gets the path for the weights in a named voc checkpoint.\"\"\"\n",
        "        return self.voc_checkpoints/f'{name}_weights.pyt'\n",
        "\n",
        "    def get_voc_named_optim(self, name):\n",
        "        \"\"\"Gets the path for the optimizer state in a named voc checkpoint.\"\"\"\n",
        "        return self.voc_checkpoints/f'{name}_optim.pyt'\n",
        "\n",
        "\n"
      ],
      "metadata": {
        "id": "YknYNiwdDs7m"
      },
      "execution_count": null,
      "outputs": []
    },
    {
      "cell_type": "markdown",
      "source": [
        "# Preparación del proyecto."
      ],
      "metadata": {
        "id": "zacBLAngiO4v"
      }
    },
    {
      "cell_type": "code",
      "source": [
        "%cd /content/ForwardTacotron\n",
        "#@markdown ### Configuración.\n",
        "\n",
        "#@markdown Estas son algunas configuraciones con las que podremos modificar ajustes relacionados a datos y entrenamiento.\n",
        "\n",
        "#@markdown ---\n",
        "#@markdown #### Elige la variante de modelo a usar:\n",
        "import os\n",
        "model_type = \"Un solo hablante\" #@param [\"Un solo hablante\", \"Varios hablantes\"]\n",
        "if model_type == \"Un solo hablante\":\n",
        "  config_path = \"configs/singlespeaker.yaml\"\n",
        "elif model_type == \"Varios hablantes\":\n",
        "  config_path = \"configs/multispeaker.yaml\"\n",
        "elif only_singlespeaker_version:\n",
        "  config_path = \"config.yaml\"\n",
        "else:\n",
        "  raise Exception(\"Tipo de modelo no soportado. Actualmente, puedes elegir entre un solo hablante, varios o no tomarlo en cuenta si usas la versión 3.2.\")\n",
        "#@markdown ---\n",
        "#@markdown #### Nombre deseado para el modelo:\n",
        "tts_model_id = \"EjemploTTS\" #@param {type:\"string\"}\n",
        "tts_id = tts_model_id\n",
        "!./yq -i '.tts_model_id = \"{tts_model_id}\"' \"{config_path}\"\n",
        "#@markdown ---\n",
        "# waveRNN vocoder removed from last version\n",
        "#@markdown #### Por favor, elige el tipo de modelo que se va a entrenar con este conjunto de datos:\n",
        "\n",
        "#@markdown La opción `multi_forward_tacotron` está soportada solamente para modelos de varios hablantes.\n",
        "tts_model = \"forward_tacotron\" #@param [\"forward_tacotron\", \"multi_forward_tacotron\", \"fast_pitch\"]\n",
        "if tts_model == \"multi_forward_tacotron\" and model_type == \"Un solo hablante\":\n",
        "  raise Exception(\"El modelo multi_forward_tacotron solo está soportado en modelos de varios hablantes.\")\n",
        "elif tts_model == \"multi_forward_tacotron\" and only_singlespeaker_version:\n",
        "  raise Exception(\"El modelo multi_forward_tacotron no está soportado en esta versión.\")\n",
        "!./yq -i '.tts_model = \"{tts_model}\"' \"{config_path}\"\n",
        "#@markdown ---\n",
        "#@markdown #### ¿Continuar un entrenamiento?\n",
        "continue_training = False #@param {type:\"boolean\"}\n",
        "#@markdown Puedes establecer la ubicación del conjunto de datos preprocesado que se guardó a tu Drive\n",
        "preprocess_path = \"/content/drive/MyDrive/ForwardTacotron/EjemploTTS/dataset_preprocessed.zip\" #@param {type:\"string\"}\n",
        "if continue_training:\n",
        "  !unzip $preprocess_path -d /content/FforwardTacotron\n",
        "#@markdown ---\n",
        "#@markdown #### ¿Guardar puntos de control y preprocesamiento en una ubicación personalizada?\n",
        "custom_save_dir = True #@param {type:\"boolean\"}\n",
        "\n",
        "#@markdown Si está activado, ¿dónde deseas guardarlo?\n",
        "save_dir = \"/content/drive/MyDrive/ForwardTacotron/EjemploTTS\" #@param {type:\"string\"}\n",
        "if custom_save_dir:\n",
        "  if not os.path.exists(save_dir):\n",
        "    os.makedirs(save_dir)\n",
        "else:\n",
        "  print(\"¡Advertencia! Los cambios no se guardarán, solo en la carpeta local del proyecto.\")\n",
        "  save_dir = \"/content/ForwardTacotron\"\n",
        "#@markdown ---\n",
        "#@markdown #### Elige la frecuencia de muestreo: (Opcional)\n",
        "sample_rate = \"22050\" #@param [\"16000\", \"22050\", \"24000\", \"32000\", \"44100\", \"48000\"] {allow-input: true}\n",
        "!./yq -i '.dsp.sample_rate = {sample_rate}' \"{config_path}\"\n",
        "!./yq -i '.dsp.vad_sample_rate = {sample_rate}' \"{config_path}\"\n",
        "#@markdown ---\n",
        "#@markdown #### Elige el formato del archivo de transcripciones:\n",
        "\n",
        "#@markdown El formato `ljspeech` es el único que se usa para modelos de un solo hablante.\n",
        "\n",
        "metafile_format = \"ljspeech\" #@param [\"ljspeech\", \"ljspeech_multi\", \"pandas\", \"vctk\"]\n",
        "if metafile_format == \"ljspeech\" and model_type == \"Varios hablantes\":\n",
        "  raise Exception(\"El formato ljspeech es compatible solamente con los modelos de un solo hablante.\")\n",
        "elif not metafile_format == \"ljspeech\" and only_singlespeaker_version:\n",
        "  raise Exception(\"El formato ljspeech es el único soportado en la versión 3.2\")\n",
        "else:\n",
        "  !./yq -i '.preprocessing.metafile_format = \"{metafile_format}\"' \"{config_path}\"\n",
        "#@markdown ---\n",
        "#@markdown #### Número de validaciones (Puedes ajustarlo según el tamaño del conjunto de datos).\n",
        "n_val = 100 #@param {type:\"integer\"}\n",
        "!./yq -i '.preprocessing.n_val = {n_val}' \"{config_path}\"\n",
        "#@markdown ---\n",
        "#@markdown #### Elige la bariación de idioma en el que tiene este conjunto de datos:\n",
        "#@markdown * Tengamos en cuenta que \"`es`\" equivale a español de españa (recomendado) y \"`es-419`\" equivale al español de latinoamérica.\n",
        "language = 'es' #@param [\"es\", \"es-419\"]\n",
        "!./yq -i '.preprocessing.language = \"{language}\"' \"{config_path}\"\n",
        "#@markdown ---\n",
        "# set no cleaners:\n",
        "cleaner_name = 'no_cleaners'\n",
        "!./yq -i '.preprocessing.cleaner_name = \"{cleaner_name}\"' \"{config_path}\"\n",
        "# reduce workers in dur extraction:\n",
        "!./yq -i '.duration_extraction.num_workers = \"2\"' \"{config_path}\"\n",
        "#@markdown #### Intervalo de pasos para generar señales de entrenamiento del modelo:\n",
        "#@markdown Aquí podremos configurar cada cuántos pasos se generarán figuras, imágenes, visuales y audio, es decir, el progreso del entrenamiento en que se podrá ver en tensorboard (Más adelante).\n",
        "#@markdown * Nota: esta configuración aplicará en todos los modelos: Tacotron, Forward_tacotron, multi_forward_tacotron (Si se entrena con varios hablantes), y FastPitch.\n",
        "plot_every = 5000 #@param {type:\"integer\"}\n",
        "!./yq -i '.tacotron.training.plot_every = {plot_every}' \"{config_path}\"\n",
        "if model_type == \"Varios hablantes\":\n",
        "  !./yq -i '.multi_forward_tacotron.training.plot_every = {plot_every}' \"{config_path}\"\n",
        "else:\n",
        "  !./yq -i '.forward_tacotron.training.plot_every = {plot_every}' \"{config_path}\"\n",
        "!./yq -i '.fast_pitch.training.plot_every = {plot_every}' \"{config_path}\"\n",
        "#@markdown ---\n",
        "# phoneme singlespeaker:\n",
        "!./yq -i '.preprocessing.use_phonemes = \"True\"' \"{config_path}\"\n",
        "# attention:\n",
        "if model_type == \"Varios hablantes\":\n",
        "  !./yq -i '.multi_forward_tacotron.training.filter_attention = True' \"{config_path}\"\n",
        "  !./yq -i '.multi_forward_tacotron.training.min_attention_sharpness = 0.25' \"{config_path}\"\n",
        "  !./yq -i '.multi_forward_tacotron.training.min_attention_alignment = 0.5' \"{config_path}\"\n",
        "else:\n",
        "  !./yq -i '.forward_tacotron.training.filter_attention = True' \"{config_path}\"\n",
        "  !./yq -i '.forward_tacotron.training.min_attention_sharpness = 0.25' \"{config_path}\"\n",
        "  !./yq -i '.forward_tacotron.training.min_attention_alignment = 0.5' \"{config_path}\""
      ],
      "metadata": {
        "cellView": "form",
        "id": "JDfQsoTXqHnq"
      },
      "execution_count": null,
      "outputs": []
    },
    {
      "cell_type": "markdown",
      "source": [
        "## Trabajando con el conjunto de datos.\n",
        "\n",
        "**Puedes saltarte estas celdas si ya pre-procesaste un dataset por primera vez y quieres entrenarlo en el último punto de control que se haya guardado. De lo contrario, expande esta sección y lee las instrucciones de cada celda.**"
      ],
      "metadata": {
        "id": "-ognVXccZjDg"
      }
    },
    {
      "cell_type": "code",
      "source": [
        "import zipfile\n",
        "import os\n",
        "import os.path\n",
        "#@markdown ### Procesamiento del conjuntos de datos.\n",
        "#@markdown ---\n",
        "#@markdown * Nota: si vas a preprocesar conjuntos de datos de mayor tamaño, se recomienda tener más espacio disponible en drive.\n",
        "#@markdown ---\n",
        "#@markdown #### Ruta de los audios. Ellos deberán almacenarse en un archivo .zip:\n",
        "wavs_path = \"/content/drive/MyDrive/wavs.zip\" #@param {type:\"string\"}\n",
        "#@markdown ---\n",
        "#@markdown #### Ruta de transcripción: (Por defecto metadata.csv)\n",
        "list_path = \"/content/drive/MyDrive/list.csv\" #@param {type:\"string\"}\n",
        "list_filename = os.path.basename(list_path).split('/')[-1]\n",
        "#@markdown ---\n",
        "%cd /content\n",
        "!mkdir dataset\n",
        "%cd dataset\n",
        "!mkdir wavs\n",
        "if zipfile.is_zipfile(wavs_path):\n",
        "  !unzip -j \"$wavs_path\" -d /content/dataset/wavs\n",
        "else:\n",
        "  print(\"Aviso: la ruta de audios no es un archivo comprimido.\")\n",
        "if list_path.endswith('.txt'):\n",
        "  raise Exception(\"El formato de la transcripción deberá estar en formato csv\")\n",
        "\n",
        "if not os.path.exists(list_path):\n",
        "  raise Exception(\"Error: el archivo de transcripción no existe, inténtelo de nuevo por favor.\")\n",
        "else:\n",
        "  !cp $list_path /content/dataset\n",
        "%cd /content/ForwardTacotron\n",
        "print(\"Ejecutando procesamiento...\")\n",
        "if only_singlespeaker_version:\n",
        "  !python preprocess.py --path /content/dataset\n",
        "else:\n",
        "  !python preprocess.py --path /content/dataset --config \"{config_path}\" --metafile \"{list_filename}\"\n",
        "if custom_save_dir:\n",
        "  print(\"Respaldando preprocesamiento...\")\n",
        "  !zip -r \"$save_dir/dataset_preprocessed.zip\" configs data"
      ],
      "metadata": {
        "id": "DeVSn6JGtLwW",
        "cellView": "form"
      },
      "execution_count": null,
      "outputs": []
    },
    {
      "cell_type": "markdown",
      "source": [
        "### <font color='red'>¡Precaución!</font> Debes ejecutar esta celda si tienes un conjunto de datos en tu Forward Tacotron y quieres entrenar otro. Los contenidos se borrarán."
      ],
      "metadata": {
        "id": "_TKXe-ttOtJh"
      }
    },
    {
      "cell_type": "code",
      "source": [
        "#@markdown ### <font color='red'>Borrar el conjunto de datos actual (si existe)\n",
        "#@markdown ---\n",
        "#@markdown Debido a que los datasets se encuentran en la carpeta de trabajo, es posible que necesites entrenar otro datasetp. Si es así, ejecuta esta celda para hacerlo.\n",
        "# conjunto de datos\n",
        "!rm -rf /content/ForwardTacotron/dataset\n",
        "# preprocesado:\n",
        "!rm -rf /content/ForwardTacotron/data/*"
      ],
      "metadata": {
        "cellView": "form",
        "id": "iSGxbKxXLuGS"
      },
      "execution_count": null,
      "outputs": []
    },
    {
      "cell_type": "markdown",
      "source": [
        "# ¡A entrenar!\n",
        "Esta serie de pasos requerirán de tiempo para conseguir un entrenamiento estable y tras horas, y a veces algunos días, obtener los resultados finales. Por favor, sugiero leer atentamente las indicaciones de cada una de las celdas.\n",
        "\n",
        "***¡Modelo preentrenado español pronto!***"
      ],
      "metadata": {
        "id": "BXhho463mSwJ"
      }
    },
    {
      "cell_type": "code",
      "source": [
        "#@markdown ### Ejecutar la extensión Tensorboard.\n",
        "#@markdown ---\n",
        "#@markdown El tensorboard sirve para visualizar el proceso de entrenamiento del modelo. Ten en cuenta que si quieres visualizar esto, puedes ir a las pestañas **audio**, **image** o **scalars**.\n",
        "%load_ext tensorboard\n",
        "%tensorboard --logdir \"{data_path}/checkpoints\"\n",
        "import tensorflow as tf\n",
        "import datetime"
      ],
      "metadata": {
        "cellView": "form",
        "id": "SXYKGmDHus0r"
      },
      "execution_count": null,
      "outputs": []
    },
    {
      "cell_type": "code",
      "source": [
        "#@markdown ### Entrenamiento 1: Tacotron.\n",
        "#@markdown ---\n",
        "#@markdown Un punto muy a tomar en cuenta entre Tacotron y Forward Tacotron es la división del entrenamiento.\n",
        "#@markdown * El modelo se entrenará entre un total de 40k pasos. De forma predeterminada, los respaldos se guardan cada 10k pasos, por lo que deberíamos preocuparnos por el almacenamiento. ___(En cambio, puedes borrar los respaldos antiguos. Igualmente, el que realmente importa y se usa es el latest_model que se guarda más a menudo).___\n",
        "#@markdown * Asimismo, este entrenamiento cumple un cronograma el cual se aplicarán parámetros diferentes.\n",
        "#@markdown\n",
        "#@markdown Sin más, ¡a entrenar!.\n",
        "if only_singlespeaker_version:\n",
        "  !python train_tacotron.py\n",
        "else:\n",
        "  !python train_tacotron.py --config \"{config_path}\"\n",
        "# include att score, pitch, att, aligments and more:\n",
        "print(\"Pero antes, respaldando el trabajo que se acaba de hacer...\")\n",
        "!zip –u \"$save_dir/dataset_preprocessed.zip\" configs data\n",
        "print(\"¡Listo!\")"
      ],
      "metadata": {
        "cellView": "form",
        "id": "CoKJIkYvy_4o"
      },
      "execution_count": null,
      "outputs": []
    },
    {
      "cell_type": "code",
      "source": [
        "#@markdown ### Entrenamiento 2: ForwardTacotron.\n",
        "#@markdown ---\n",
        "#@markdown Esto entrenará el modelo final para Forward Tacotron, tomando en cuenta el trabajo realizado anteriormente.\n",
        "#@markdown * Asimismo, cumplirá un cronograma. Por defecto, se entrena hasta 300k pasos, pero puede funcionar con menos.\n",
        "#@markdown * Recuerda que se tomará en cuenta la atención basándose en el modelo Tacotron. Si se está entrenando con pocos archivos debido a la mala atención (Podemos darnos cuenta de esto durante el entrenamiento), hay un problema en el conjunto de datos. Así que por favor, procura revisarlo, arreglar lo que sea necesario o aumentar más datos.\n",
        "#@markdown * Puedes ajustar el tamaño del lote (Batch) si no tienes memoria durante la sesión aquí.\n",
        "batch_size = 24 #@param {type:\"integer\"}\n",
        "!./yq -i '.forward_tacotron.training.schedule[0] = 5e-5,  150_000,  {batch_size}' \"{config_path}\"\n",
        "!./yq -i '.forward_tacotron.training.schedule[1] = 1e-5,  300_000,  {batch_size}' \"{config_path}\"\n",
        "#@markdown ---\n",
        "if only_singlespeaker_version:\n",
        "  !python train_forward.py\n",
        "else:\n",
        "  !python train_forward.py --config \"{config_path}\"\n"
      ],
      "metadata": {
        "cellView": "form",
        "id": "Ox7B0EUizBgc"
      },
      "execution_count": null,
      "outputs": []
    },
    {
      "cell_type": "markdown",
      "source": [
        "# ¿Has terminado de entrenar por hoy?\n",
        "Prueba el modelo en el cuaderno de síntesis pulsando [aquí.](https://colab.research.google.com/drive/1Y8tTrw3OSp8eJJryRgpbLkEdxnzwI5Cv)"
      ],
      "metadata": {
        "id": "of-AwqqvpR7K"
      }
    }
  ]
}