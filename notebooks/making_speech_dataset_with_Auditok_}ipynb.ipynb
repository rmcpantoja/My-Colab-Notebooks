{
  "nbformat": 4,
  "nbformat_minor": 0,
  "metadata": {
    "colab": {
      "provenance": [],
      "authorship_tag": "ABX9TyOZDdzswUcP+Wu9uDXbPgPY",
      "include_colab_link": true
    },
    "kernelspec": {
      "name": "python3",
      "display_name": "Python 3"
    },
    "language_info": {
      "name": "python"
    }
  },
  "cells": [
    {
      "cell_type": "markdown",
      "metadata": {
        "id": "view-in-github",
        "colab_type": "text"
      },
      "source": [
        "<a href=\"https://colab.research.google.com/github/rmcpantoja/My-Colab-Notebooks/blob/main/notebooks/making_speech_dataset_with_Auditok_%7Dipynb.ipynb\" target=\"_parent\"><img src=\"https://colab.research.google.com/assets/colab-badge.svg\" alt=\"Open In Colab\"/></a>"
      ]
    },
    {
      "cell_type": "markdown",
      "source": [
        "# Colab notebook to chunk audio with [auditok](https://github.com/amsehili/auditok).\n",
        "## Useful for make speech datasets automatically\n",
        "\n",
        "Notebook made by [rmcpantoja](https://github.com/rmcpantoja/)"
      ],
      "metadata": {
        "id": "RUpOBNfXt79D"
      }
    },
    {
      "cell_type": "markdown",
      "source": [
        "## First steps"
      ],
      "metadata": {
        "id": "ASuLUsYBviXd"
      }
    },
    {
      "cell_type": "code",
      "source": [
        "#@title Mount your Google Drive\n",
        "#@markdown This is useful if you want to save your generated dataset to your [drive](http://drive.google.com/).\n",
        "from google.colab import drive\n",
        "drive.mount('drive', force_remount=True)"
      ],
      "metadata": {
        "cellView": "form",
        "id": "gcrCdgVzvoC3"
      },
      "execution_count": null,
      "outputs": []
    },
    {
      "cell_type": "code",
      "source": [
        "#@title install software\n",
        "#@markdown Here we will install and update pip packages for Python, as well as the repository for the tool, which is the most important thing.\n",
        "\n",
        "#@markdown * note: please restart the runtime environment when this cell is done executing.\n",
        "\n",
        "!git clone https://github.com/amsehili/auditok.git\n",
        "%cd auditok\n",
        "!python setup.py install\n",
        "%cd ..\n",
        "!pip install --upgrade gdown\n",
        "!pip install yt-dlp pydub\n",
        "import yt_dlp\n",
        "from google.colab import files\n",
        "def download_from_youtube(yt_url):\n",
        "  ydl_opts = {\n",
        "      'format': 'bestaudio/best',\n",
        "      'postprocessors': [{\n",
        "          'key': 'FFmpegExtractAudio',\n",
        "          'preferredcodec': 'wav',\n",
        "          'preferredquality': '320',\n",
        "      }],\n",
        "  }\n",
        "\n",
        "  with yt_dlp.YoutubeDL(ydl_opts) as ydl:\n",
        "      ydl.download([yt_url])\n",
        "\n",
        "!mkdir project"
      ],
      "metadata": {
        "cellView": "form",
        "id": "-dWKuapKwWyU"
      },
      "execution_count": null,
      "outputs": []
    },
    {
      "cell_type": "markdown",
      "source": [
        "## Starting to interact whit the tool"
      ],
      "metadata": {
        "id": "zYjywyzYyZKN"
      }
    },
    {
      "cell_type": "code",
      "source": [
        "#@title Gett audio data of the voice\n",
        "#@markdown You can skip this cell if you are going to upload an audio to the left panel in colab\n",
        "\n",
        "#@markdown **choose the way you want to get audio:**\n",
        "mode = \"download from Youtube (yt-dlp)\" #@param [\"download from Youtube (yt-dlp)\", \"download via a Drive id\", \"Upload\"]\n",
        "input = \"Link or ID to download\" #@param {type:\"string\"}\n",
        "if mode == \"download from Youtube (yt-dlp)\" and \"http\" in input:\n",
        "  download_from_youtube(input)\n",
        "elif mode == \"download via a Drive id\" and input.startswith(\"1\"):\n",
        "  !gdown {input}\n",
        "elif mode == \"Upload\":\n",
        "  input = files.upload()\n",
        "print(\"Done!\")"
      ],
      "metadata": {
        "cellView": "form",
        "id": "ACWJvW8Gyj2L"
      },
      "execution_count": null,
      "outputs": []
    },
    {
      "cell_type": "code",
      "source": [
        "#@title Settings\n",
        "#@markdown Here you can make your preferred settings for the tool, such as manipulating audio duration and silence detection.\n",
        "\n",
        "#@markdown ---\n",
        "\n",
        "#@markdown **Choose the minimum duration**\n",
        "min_duration = 10.0 #@param {type:\"number\"}\n",
        "#@markdown ---\n",
        "#@markdown **Choose the maximum duration**\n",
        "max_duration = 15.5 #@param {type:\"number\"}\n",
        "#@markdown ---\n",
        "#@markdown **Maximum duration of silences**\n",
        "max_silence = 0.5 #@param {type:\"number\"}\n",
        "#@markdown ---\n",
        "\n",
        "#@markdown **threshold of detection**\n",
        "threshold = 55 #@param {type:\"integer\"}\n",
        "#@markdown ---"
      ],
      "metadata": {
        "id": "jBvCsOF26unB",
        "cellView": "form"
      },
      "execution_count": null,
      "outputs": []
    },
    {
      "cell_type": "code",
      "source": [
        "#@title Lets begin the work!\n",
        "#@markdown But first, here are some things to set up the wai the notebook will save the dataset.\n",
        "\n",
        "#@markdown **Location of the audio file containing the voice**\n",
        "audio_dir = \"audio.wav\" #@param {type:\"string\"}\n",
        "#@markdown ---\n",
        "\n",
        "#@markdown **compress as zip file?**\n",
        "compress = \"True\" #@param {type:\"boolean\"}\n",
        "#@markdown ---\n",
        "\n",
        "#@markdown **If it is compressed as zip, where to save it?**\n",
        "export_dir = \"/content/drive/MyDrive/voice1\" #@param {type:\"string\"}\n",
        "#@markdown ---\n",
        "import auditok\n",
        "print(\"Splitting audio... this may take a short time.\\n\")\n",
        "# split returns a generator of AudioRegion objects\n",
        "audio_regions = auditok.split(\n",
        "    audio_dir,\n",
        "    min_dur=min_duration,     # minimum duration of a valid audio event in seconds\n",
        "    max_dur=max_duration,       # maximum duration of an event\n",
        "    max_silence=max_silence, # maximum duration of tolerated continuous silence within an event\n",
        "    energy_threshold=threshold # threshold of detection\n",
        ")\n",
        "\n",
        "for i, r in enumerate(audio_regions):\n",
        "\n",
        "    # Regions returned by `split` have 'start' and 'end' metadata fields\n",
        "    #print(\"Region {i}: {r.meta.start:.3f}s -- {r.meta.end:.3f}s\".format(i=i, r=r))\n",
        "\n",
        "    # play detection\n",
        "    # r.play(progress_bar=True)\n",
        "\n",
        "    # region's metadata can also be used with the `save` method\n",
        "    # (no need to explicitly specify region's object and `format` arguments)\n",
        "    filename = r.save(\"project/region_{meta.start:.3f}-{meta.end:.3f}.wav\")\n",
        "    #print(\"region saved as: {}\".format(filename))\n",
        "import os\n",
        "n_wavs = len(os.listdir(\"/content/project\"))\n",
        "print(f\"Done. the division has been made into {n_wavs} audios.\")\n",
        "if compress:\n",
        "  print(\"Compressing wavs...\\n\")\n",
        "  import os\n",
        "  if not os.path.exists(export_dir):\n",
        "    os.makedirs(export_dir)\n",
        "  import shutil\n",
        "  shutil.make_archive(export_dir+\"/wavs\", 'zip', '/content/project')\n",
        "  print(\"compression finished!\")"
      ],
      "metadata": {
        "cellView": "form",
        "id": "d5snHFdX9dcb"
      },
      "execution_count": null,
      "outputs": []
    },
    {
      "cell_type": "markdown",
      "source": [
        "# Related notebooks\n",
        "\n",
        "Would you like to transcribe these audios? Use Whisper transcription notebook!\n",
        "\n",
        "* [English notebook](https://colab.research.google.com/github/rmcpantoja/My-Colab-Notebooks/blob/main/notebooks/OpenAI%20Whisper%20-%20DotCSV%20(Speech%20dataset%20multi-transcryption%20support)en.ipynb)\n",
        "* [French notebook](https://colab.research.google.com/github/rmcpantoja/My-Colab-Notebooks/blob/main/notebooks/OpenAI%20Whisper%20-%20DotCSV%20(Speech%20dataset%20multi-transcryption%20support)fr.ipynb)\n",
        "* [Spanish notebook](https://colab.research.google.com/github/rmcpantoja/My-Colab-Notebooks/blob/main/notebooks/OpenAI%20Whisper%20-%20DotCSV%20(Speech%20dataset%20multi-transcryption%20support)es.ipynb)"
      ],
      "metadata": {
        "id": "k1NJfQJTGB9O"
      }
    }
  ]
}