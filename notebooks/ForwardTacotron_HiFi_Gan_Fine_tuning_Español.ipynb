{
  "nbformat": 4,
  "nbformat_minor": 0,
  "metadata": {
    "colab": {
      "provenance": [],
      "include_colab_link": true
    },
    "kernelspec": {
      "name": "python3",
      "display_name": "Python 3"
    },
    "language_info": {
      "name": "python"
    }
  },
  "cells": [
    {
      "cell_type": "markdown",
      "metadata": {
        "id": "view-in-github",
        "colab_type": "text"
      },
      "source": [
        "<a href=\"https://colab.research.google.com/github/rmcpantoja/My-Colab-Notebooks/blob/main/notebooks/ForwardTacotron_HiFi_Gan_Fine_tuning_Espa%C3%B1ol.ipynb\" target=\"_parent\"><img src=\"https://colab.research.google.com/assets/colab-badge.svg\" alt=\"Open In Colab\"/></a>"
      ]
    },
    {
      "cell_type": "markdown",
      "source": [
        "# [ForwardTacotron](https://github.com/as-ideas/ForwardTacotron) e [HiFi-GAN](https://github.com/jik876/hifi-gan) Cuaderno de Fine Tuning.\n",
        "\n",
        "Cuaderno creado por [rmcpantoja.](https://github.com/rmcpantoja/)\n",
        "\n",
        "## Créditos:\n",
        "\n",
        "* Modificación de HiFi-GAN por [SortAnon.](https://github.com/SortAnon/hifi-gan)\n",
        "* Este cuaderno se basa en el [cuaderno del equipo FakeYou.](https://colab.research.google.com/github/justinjohn0306/FakeYou-Tacotron2-Notebook/blob/main/FakeYou_HiFi_GAN_Fine_Tuning.ipynb) Por `Cookie PPP` y `Justinjohn03`.\n",
        "* Traducido al español por [Xx_Nessu_xX.](https://fakeyou.com/profile/Xx_Nessu_xX)"
      ],
      "metadata": {
        "id": "EojtujCm6Brq"
      }
    },
    {
      "cell_type": "markdown",
      "source": [
        "## Primeros pasos."
      ],
      "metadata": {
        "id": "c528VC6x-gO8"
      }
    },
    {
      "cell_type": "code",
      "source": [
        "#@title Mirar GPU.\n",
        "#@markdown Necesitas un `T4 Tesla` como mínimo.\n",
        "!nvidia-smi"
      ],
      "metadata": {
        "cellView": "form",
        "id": "ClqZJhn2-srQ"
      },
      "execution_count": null,
      "outputs": []
    },
    {
      "cell_type": "code",
      "source": [
        "#@title Montar Google Drive.\n",
        "#@markdown Esto es útil para importar los datos necesarios para el ajuste fino en HiFi-GAN y exportar el entrenamiento de estos modelos ajustados.\n",
        "from google.colab import drive\n",
        "drive.mount('/content/drive', force_remount=True)"
      ],
      "metadata": {
        "cellView": "form",
        "id": "t0SDvglb_Lqo"
      },
      "execution_count": null,
      "outputs": []
    },
    {
      "cell_type": "code",
      "source": [
        "#@title Instalar software.\n",
        "#@markdown Esta celda instala ForwardTacotron, HiFi-GAN y algunas dependencias necesarias para ejecutar las tareas.\n",
        "#@markdown #### <font color=orange>¿Quieres utilizar la versión 3.2 de ForwardTacotron?\n",
        "\n",
        "#@markdown La versión 3.2 es la última que sólo contiene soporte para un único hablante.\n",
        "only_singlespeaker_version = True #@param {type:\"boolean\"}\n",
        "#@markdown ---\n",
        "%cd /content\n",
        "!git clone https://github.com/as-ideas/ForwardTacotron.git\n",
        "!git clone https://github.com/SortAnon/hifi-gan.git\n",
        "# rollback to last single speaker version (tag v3.2)\n",
        "%cd ./ForwardTacotron\n",
        "if only_singlespeaker_version.\n",
        "  !git checkout 632b453c6cb6d15dfe4dd168cd60c60e56731829\n",
        "!rm -r .git/\n",
        "# install\n",
        "!apt-get install espeak-ng\n",
        "!pip install numba librosa==0.9.2 pyworld phonemizer webrtcvad PyYAML soundfile scipy tensorboard matplotlib unidecode inflect\n",
        "!pip install --upgrade gdown"
      ],
      "metadata": {
        "cellView": "form",
        "id": "S4Q8Y_E4AIHb"
      },
      "execution_count": null,
      "outputs": []
    },
    {
      "cell_type": "markdown",
      "source": [
        "## Datos y entrenamiento."
      ],
      "metadata": {
        "id": "QAUoz9_HAypx"
      }
    },
    {
      "cell_type": "code",
      "source": [
        "#@title Establecer rutas de datos.\n",
        "!mkdir /content/ForwardTacotron/wavs\n",
        "#@markdown #### Ruta del conjunto de datos preprocesado (Data y archivo de configuración):\n",
        "project = \"/content/drive/MyDrive/ForwardTacotron/ejemploTTS/dataset_preprocessed.zip\" #@param {type:\"string\"}\n",
        "print(\"Extracción del conjunto de datos preprocesado...\")\n",
        "!unzip -q \"$project\" -d /content/ForwardTacotron\n",
        "#@markdown ---\n",
        "#@markdown #### Ruta del conjunto de datos de audio (En formato zip):\n",
        "audio_dataset = \"/content/drive/MyDrive/datasets/Ejemplo/wavs.zip\" #@param {type:\"string\"}\n",
        "print(\"Extracción de audio...\")\n",
        "!unzip -q \"$audio_dataset\" -d /content/ForwardTacotron/wavs\n",
        "#@markdown ---\n",
        "#@markdown #### Carpeta donde se encuentran los puntos de control Tacotron o ForwardTacotron:\n",
        "checkpoints_dir = \"/content/drive/MyDrive/ForwardTacotron/ejemploTTS/checkpoints\" #@param {type:\"string\"}\n",
        "!cp -r \"$checkpoints_dir\" /content/ForwardTacotron\n",
        "#@markdown ---\n",
        "#@markdown #### Rutas de las listas de archivos de entrenamiento y validación:\n",
        "train_filelist = \"/content/drive/MyDrive/Datasets/Ejemplo/list.txt\" #@param {type:\"string\"}\n",
        "val_filelist = \"/content/drive/MyDrive/Datasets/Ejemplo/list.txt\" #@param {type:\"string\"}\n",
        "#@markdown ---\n"
      ],
      "metadata": {
        "cellView": "form",
        "id": "-cf5ABtXA9yW"
      },
      "execution_count": null,
      "outputs": []
    },
    {
      "cell_type": "code",
      "source": [
        "#@title Crear conjunto de datos alineado con la verdad fundamental.\n",
        "#@markdown Con este conjunto de datos, HiFi-GAN puede distinguir el sonido del modelo a alinear con los audios originales para adaptar su sonido.\n",
        "\n",
        "#@markdown ---\n",
        "%cd /content/ForwardTacotron\n",
        "# create GTA features for:\n",
        "#@markdown #### Seleccione el modelo en el que deseas trabajar:\n",
        "GTA_model = \"forward\" #@param [\"forward\", \"tacotron\"]\n",
        "#@markdown ---\n",
        "!python train_{GTA_model}.py --force_gta"
      ],
      "metadata": {
        "cellView": "form",
        "id": "Z3E6cAI1u968"
      },
      "execution_count": null,
      "outputs": []
    },
    {
      "cell_type": "code",
      "source": [
        "#@title Entrenar HiFi-GAN\n",
        "%cd /content/hifi-gan\n",
        "\n",
        "import os\n",
        "import shutil\n",
        "#@markdown #### Nombre deseado para el modelo:\n",
        "model_name = \"Ejemplo\" #@param {type:\"string\"}\n",
        "#@markdown ---\n",
        "#@markdown #### Directorio de salida (Se recomienda guardarlo en Drive.):\n",
        "output_dir = \"/content/drive/My Drive/forward_finetune\"  #@param {type:\"string\"}\n",
        "savedir = output_dir+\"/\"+model_name\n",
        "#@markdown ---\n",
        "#@markdown #### Intervalo de pasos para guardar los modelos:\n",
        "checkpoint_interval = 250 #@param {type:\"integer\"}\n",
        "#@markdown ---\n",
        "import gdown\n",
        "d = 'https://drive.google.com/uc?id='\n",
        "os.chdir('/content/hifi-gan')\n",
        "# copy fine tune dataset:\n",
        "if os.path.exists(\"/content/hifi-gan/ft_dataset\"):\n",
        "    shutil.rmtree(\"/content/hifi-gan/ft_dataset\")\n",
        "shutil.copytree(\"/content/ForwardTacotron/data/gta\", \"/content/hifi-gan/ft_dataset/wavs/\")\n",
        "if os.path.exists(\"/content/hifi-gan/wavs\"):\n",
        "    shutil.rmtree(\"/content/hifi-gan/wavs\")\n",
        "shutil.copytree(\"/content/ForwardTacotron/wavs/\", \"/content/hifi-gan/wavs/\")\n",
        "shutil.copyfile(train_filelist, \"/content/hifi-gan/training.txt\")\n",
        "shutil.copyfile(val_filelist, \"/content/hifi-gan/validation.txt\")\n",
        "\n",
        "if not os.path.exists(savedir):\n",
        "    os.makedirs(savedir)\n",
        "if not os.path.exists(os.path.join(savedir, \"do_00000000\")):\n",
        "    print(\"Downloading universal model...\")\n",
        "    gdown.download(d+\"1O63eHZR9t1haCdRHQcEgMfMNxiOciSru\", os.path.join(savedir, \"do_00000000\"), quiet=False)\n",
        "    gdown.download(d+\"1qpgI41wNXFcH-iKq1Y42JlBC9j0je8PW\", os.path.join(savedir, \"g_00000000\"), quiet=False)\n",
        "    start_from_universal = \"--warm_start True \"\n",
        "else:\n",
        "    start_from_universal = \"\"\n",
        "\n",
        "\n",
        "!python train.py --fine_tuning True --config config_v1b.json \\{start_from_universal}\\\n",
        "--checkpoint_interval {checkpoint_interval} --checkpoint_path \"{savedir}\" \\\n",
        "--input_training_file \"/content/hifi-gan/training.txt\" \\\n",
        "--input_validation_file \"/content/hifi-gan/validation.txt\" \\\n",
        "--input_wavs_dir \"\" --input_mels_dir \"ft_dataset\"\n",
        "\n",
        "\n"
      ],
      "metadata": {
        "cellView": "form",
        "id": "yDwpxHTkxbEw"
      },
      "execution_count": null,
      "outputs": []
    }
  ]
}