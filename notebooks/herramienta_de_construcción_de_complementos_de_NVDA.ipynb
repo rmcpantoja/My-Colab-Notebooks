{
  "nbformat": 4,
  "nbformat_minor": 0,
  "metadata": {
    "colab": {
      "provenance": [],
      "authorship_tag": "ABX9TyPvmxqPWyhQFUOjkezWHKKP",
      "include_colab_link": true
    },
    "kernelspec": {
      "name": "python3",
      "display_name": "Python 3"
    },
    "language_info": {
      "name": "python"
    }
  },
  "cells": [
    {
      "cell_type": "markdown",
      "metadata": {
        "id": "view-in-github",
        "colab_type": "text"
      },
      "source": [
        "<a href=\"https://colab.research.google.com/github/rmcpantoja/My-Colab-Notebooks/blob/main/notebooks/herramienta_de_construcci%C3%B3n_de_complementos_de_NVDA.ipynb\" target=\"_parent\"><img src=\"https://colab.research.google.com/assets/colab-badge.svg\" alt=\"Open In Colab\"/></a>"
      ]
    },
    {
      "cell_type": "markdown",
      "source": [
        "# Herramienta de construcción de [complementos de NVDA](https://nvda-addons.org) (Non-Visual Desktop Access)\n",
        "\n",
        "Cuaderno creado por [rmcpantoja (Mateo Cedillo)](https://github.com/rmcpantoja) para el encuentro continuo de usuarios y desarrolladores de [NVDA en español](https://nvda.es/inicio/encuentro).\n",
        "\n",
        "## Créditos\n",
        "\n",
        "* El código de este cuaderno está basado en la [plantilla de complementos](https://github.com/nvdaaddons/AddonTemplate)."
      ],
      "metadata": {
        "id": "tng7B94njI1x"
      }
    },
    {
      "cell_type": "markdown",
      "source": [
        "# Primeros pasos\n",
        "\n",
        "Aquí abordaremos la instalación de componentes fundamentales para la construcción."
      ],
      "metadata": {
        "id": "PqS3zl-Sk9ga"
      }
    },
    {
      "cell_type": "code",
      "source": [
        "#@title Instalación de librerías\n",
        "# we install libraries:\n",
        "!pip install --upgrade pip\n",
        "!pip install markdown scons\n",
        "!sudo apt-get update  -y\n",
        "!sudo apt-get install -y gettext"
      ],
      "metadata": {
        "cellView": "form",
        "id": "7iv9crvClKQw",
        "colab": {
          "base_uri": "https://localhost:8080/"
        },
        "outputId": "7b5e1597-63fb-4918-beab-14d73cc93c9a"
      },
      "execution_count": 1,
      "outputs": [
        {
          "output_type": "stream",
          "name": "stdout",
          "text": [
            "Requirement already satisfied: pip in /usr/local/lib/python3.10/dist-packages (23.1.2)\n",
            "Collecting pip\n",
            "  Downloading pip-23.2.1-py3-none-any.whl (2.1 MB)\n",
            "\u001b[2K     \u001b[90m━━━━━━━━━━━━━━━━━━━━━━━━━━━━━━━━━━━━━━━━\u001b[0m \u001b[32m2.1/2.1 MB\u001b[0m \u001b[31m9.8 MB/s\u001b[0m eta \u001b[36m0:00:00\u001b[0m\n",
            "\u001b[?25hInstalling collected packages: pip\n",
            "  Attempting uninstall: pip\n",
            "    Found existing installation: pip 23.1.2\n",
            "    Uninstalling pip-23.1.2:\n",
            "      Successfully uninstalled pip-23.1.2\n",
            "Successfully installed pip-23.2.1\n",
            "Requirement already satisfied: markdown in /usr/local/lib/python3.10/dist-packages (3.5)\n",
            "Collecting scons\n",
            "  Downloading SCons-4.5.2-py3-none-any.whl (4.3 MB)\n",
            "\u001b[2K     \u001b[90m━━━━━━━━━━━━━━━━━━━━━━━━━━━━━━━━━━━━━━━━\u001b[0m \u001b[32m4.3/4.3 MB\u001b[0m \u001b[31m34.5 MB/s\u001b[0m eta \u001b[36m0:00:00\u001b[0m\n",
            "\u001b[?25hRequirement already satisfied: setuptools in /usr/local/lib/python3.10/dist-packages (from scons) (67.7.2)\n",
            "Installing collected packages: scons\n",
            "Successfully installed scons-4.5.2\n",
            "\u001b[33mWARNING: Running pip as the 'root' user can result in broken permissions and conflicting behaviour with the system package manager. It is recommended to use a virtual environment instead: https://pip.pypa.io/warnings/venv\u001b[0m\u001b[33m\n",
            "Hit:1 https://developer.download.nvidia.com/compute/cuda/repos/ubuntu2204/x86_64  InRelease\n",
            "Hit:2 http://archive.ubuntu.com/ubuntu jammy InRelease\n",
            "Get:3 https://cloud.r-project.org/bin/linux/ubuntu jammy-cran40/ InRelease [3,626 B]\n",
            "Get:4 http://archive.ubuntu.com/ubuntu jammy-updates InRelease [119 kB]\n",
            "Get:5 http://security.ubuntu.com/ubuntu jammy-security InRelease [110 kB]\n",
            "Get:6 http://archive.ubuntu.com/ubuntu jammy-backports InRelease [109 kB]\n",
            "Hit:7 https://ppa.launchpadcontent.net/c2d4u.team/c2d4u4.0+/ubuntu jammy InRelease\n",
            "Get:8 http://archive.ubuntu.com/ubuntu jammy-updates/main amd64 Packages [1,347 kB]\n",
            "Get:9 http://archive.ubuntu.com/ubuntu jammy-updates/universe amd64 Packages [1,269 kB]\n",
            "Hit:10 https://ppa.launchpadcontent.net/deadsnakes/ppa/ubuntu jammy InRelease\n",
            "Hit:11 https://ppa.launchpadcontent.net/graphics-drivers/ppa/ubuntu jammy InRelease\n",
            "Hit:12 https://ppa.launchpadcontent.net/ubuntugis/ppa/ubuntu jammy InRelease\n",
            "Fetched 2,957 kB in 2s (1,747 kB/s)\n",
            "Reading package lists... Done\n",
            "Reading package lists... Done\n",
            "Building dependency tree... Done\n",
            "Reading state information... Done\n",
            "The following additional packages will be installed:\n",
            "  gettext-base\n",
            "Suggested packages:\n",
            "  gettext-doc autopoint libasprintf-dev libgettextpo-dev\n",
            "The following NEW packages will be installed:\n",
            "  gettext gettext-base\n",
            "0 upgraded, 2 newly installed, 0 to remove and 18 not upgraded.\n",
            "Need to get 906 kB of archives.\n",
            "After this operation, 2,990 kB of additional disk space will be used.\n",
            "Get:1 http://archive.ubuntu.com/ubuntu jammy/main amd64 gettext-base amd64 0.21-4ubuntu4 [37.8 kB]\n",
            "Get:2 http://archive.ubuntu.com/ubuntu jammy/main amd64 gettext amd64 0.21-4ubuntu4 [868 kB]\n",
            "Fetched 906 kB in 0s (3,189 kB/s)\n",
            "debconf: unable to initialize frontend: Dialog\n",
            "debconf: (No usable dialog-like program is installed, so the dialog based frontend cannot be used. at /usr/share/perl5/Debconf/FrontEnd/Dialog.pm line 78, <> line 2.)\n",
            "debconf: falling back to frontend: Readline\n",
            "debconf: unable to initialize frontend: Readline\n",
            "debconf: (This frontend requires a controlling tty.)\n",
            "debconf: falling back to frontend: Teletype\n",
            "dpkg-preconfigure: unable to re-open stdin: \n",
            "Selecting previously unselected package gettext-base.\n",
            "(Reading database ... 120875 files and directories currently installed.)\n",
            "Preparing to unpack .../gettext-base_0.21-4ubuntu4_amd64.deb ...\n",
            "Unpacking gettext-base (0.21-4ubuntu4) ...\n",
            "Selecting previously unselected package gettext.\n",
            "Preparing to unpack .../gettext_0.21-4ubuntu4_amd64.deb ...\n",
            "Unpacking gettext (0.21-4ubuntu4) ...\n",
            "Setting up gettext-base (0.21-4ubuntu4) ...\n",
            "Setting up gettext (0.21-4ubuntu4) ...\n",
            "Processing triggers for man-db (2.10.2-1) ...\n",
            "Processing triggers for libc-bin (2.35-0ubuntu3.1) ...\n",
            "/sbin/ldconfig.real: /usr/local/lib/libtbbbind_2_0.so.3 is not a symbolic link\n",
            "\n",
            "/sbin/ldconfig.real: /usr/local/lib/libtbbmalloc.so.2 is not a symbolic link\n",
            "\n",
            "/sbin/ldconfig.real: /usr/local/lib/libtbbbind_2_5.so.3 is not a symbolic link\n",
            "\n",
            "/sbin/ldconfig.real: /usr/local/lib/libtbbmalloc_proxy.so.2 is not a symbolic link\n",
            "\n",
            "/sbin/ldconfig.real: /usr/local/lib/libtbb.so.12 is not a symbolic link\n",
            "\n",
            "/sbin/ldconfig.real: /usr/local/lib/libtbbbind.so.3 is not a symbolic link\n",
            "\n"
          ]
        }
      ]
    },
    {
      "cell_type": "markdown",
      "source": [
        "# Proceso de construcción\n",
        "\n",
        "Esta sección se trata de todo lo relacionado al proceso de construcción de un complemento deseado, incluyendo la descarga del mismo.\n",
        "\n",
        "## Notas importantes para seguir en este camino:\n",
        "\n",
        "* Puedes ejecutar las celdas en orden, una por una, verificando los resultados generados.\n",
        "* O también puedes rellenar el campo que se encuentra más abajo y pulsar en el botón `contraer dos celdas bajo esta sección` y, seguidamente, pulsar `ejecutar celda`. Al hacer esto y estar la sección contraída, colab ejecutará todas las celdas que estén dentro de esta sección, una a una, en cola. Como consecuencia, generará y descargará el complemento de preferencia."
      ],
      "metadata": {
        "id": "FduBZJWUlflq"
      }
    },
    {
      "cell_type": "code",
      "source": [
        "#@title Construyendo el complemento\n",
        "\n",
        "# Establecemos la carpeta de trabajo por defecto:\n",
        "%cd /content\n",
        "# creamos un texto markdown.\n",
        "#@markdown **Repositorio de GitHub del complemento:**\n",
        "# Aquí crearemos una variable de python. Todas las variables globales de Python también son globales para el sistema, vamos a ver esto más adelante. Además, vamos a hacer uso de un campo de formulario, el cual puede ser manipulado en esta variable.\n",
        "repo_url = \"https://github.com/nvdaes/emoticons\" #@param {\"type\": \"string\"}\n",
        "# Código normal de Python:\n",
        "repo_path = repo_url.split('/')[-1]\n",
        "if not \"github.com/\" in repo_url:\n",
        "    raise Exception(\"Ups, esto no es un repositorio de GitHub.\")\n",
        "elif repo_url.endswith(\".git\"):\n",
        "    repo_url = repo_url[:-4]\n",
        "elif repo_url == \"\":\n",
        "    raise Exception(\"Debes ingresar un repositorio en el que construir un complemento.\")\n",
        "# Aquí mezclaremos Python con comandos de sistema:\n",
        "!git clone {repo_url}\n",
        "# Aquí verificaremos si esto realmente es un complemento de NVDA antes de ir al proyecto.\n",
        "import os\n",
        "\n",
        "if not os.path.exists(f\"{repo_path}/buildVars.py\") and not os.path.exists(f\"{repo_url}/sconstruct\") and not os.path.exists(f\"{repo_url}/addon/*\"):\n",
        "    raise Exception(\"Esto no es un complemento de NVDA. Si quieres saber más acerca de la creación, puedes visitar la guía de desarrollo o basarte en el repositorio de la plantilla de complementos.\")\n",
        "    os.removedirs(repo_path)\n",
        "# suponiendo que no hay errores, entonces:\n",
        "print(\"Comprobaciones del complemento verificadas. Comenzando la construcción...\")\n",
        "%cd {repo_path}\n",
        "# Estamos en la carpeta del proyecto. Vamos a construirlo escribiendo un simple comando que hace todo el proceso.\n",
        "!scons"
      ],
      "metadata": {
        "id": "kfvkhYkkl1e7",
        "cellView": "form",
        "colab": {
          "base_uri": "https://localhost:8080/"
        },
        "outputId": "0ec6afe4-4c73-4cab-d6c3-d1bcfa3e4abf"
      },
      "execution_count": 2,
      "outputs": [
        {
          "output_type": "stream",
          "name": "stdout",
          "text": [
            "/content\n",
            "Cloning into 'emoticons'...\n",
            "remote: Enumerating objects: 5854, done.\u001b[K\n",
            "remote: Counting objects: 100% (1441/1441), done.\u001b[K\n",
            "remote: Compressing objects: 100% (269/269), done.\u001b[K\n",
            "remote: Total 5854 (delta 863), reused 1383 (delta 823), pack-reused 4413\u001b[K\n",
            "Receiving objects: 100% (5854/5854), 2.18 MiB | 9.97 MiB/s, done.\n",
            "Resolving deltas: 100% (2631/2631), done.\n",
            "Comprobaciones del complemento verificadas. Comenzando la construcción...\n",
            "/content/emoticons\n",
            "scons: Reading SConscript files ...\n",
            "scons: done reading SConscript files.\n",
            "scons: Building targets ...\n",
            "Generating addon/doc/an/readme.html\n",
            "Generating addon/doc/ar/readme.html\n",
            "Generating addon/doc/bg/readme.html\n",
            "Generating addon/doc/da/readme.html\n",
            "Generating addon/doc/de/readme.html\n",
            "Copy(\"addon/doc/en/readme.md\", \"readme.md\")\n",
            "Generating addon/doc/en/readme.html\n",
            "Generating addon/doc/es/readme.html\n",
            "Generating addon/doc/fi/readme.html\n",
            "Generating addon/doc/fr/readme.html\n",
            "Generating addon/doc/gl/readme.html\n",
            "Generating addon/doc/hr/readme.html\n",
            "Generating addon/doc/hu/readme.html\n",
            "Generating addon/doc/it/readme.html\n",
            "Generating addon/doc/ja/readme.html\n",
            "Generating addon/doc/ne/readme.html\n",
            "Generating addon/doc/nl/readme.html\n",
            "Generating addon/doc/pl/readme.html\n",
            "Generating addon/doc/pt_BR/readme.html\n",
            "Generating addon/doc/pt_PT/readme.html\n",
            "Generating addon/doc/ro/readme.html\n",
            "Generating addon/doc/ru/readme.html\n",
            "Generating addon/doc/sk/readme.html\n",
            "Generating addon/doc/sr/readme.html\n",
            "Copy(\"addon/doc/style.css\", \"style.css\")\n",
            "Generating addon/doc/tr/readme.html\n",
            "Generating addon/doc/uk/readme.html\n",
            "Generating addon/doc/vi/readme.html\n",
            "Generating addon/doc/zh_CN/readme.html\n",
            "Compiling translation addon/locale/an/LC_MESSAGES/nvda.po\n",
            "Generating translated manifest addon/locale/an/manifest.ini\n",
            "Compiling translation addon/locale/ar/LC_MESSAGES/nvda.po\n",
            "Generating translated manifest addon/locale/ar/manifest.ini\n",
            "Compiling translation addon/locale/bg/LC_MESSAGES/nvda.po\n",
            "Generating translated manifest addon/locale/bg/manifest.ini\n",
            "Compiling translation addon/locale/da/LC_MESSAGES/nvda.po\n",
            "Generating translated manifest addon/locale/da/manifest.ini\n",
            "Compiling translation addon/locale/de/LC_MESSAGES/nvda.po\n",
            "Generating translated manifest addon/locale/de/manifest.ini\n",
            "Compiling translation addon/locale/de_CH/LC_MESSAGES/nvda.po\n",
            "Generating translated manifest addon/locale/de_CH/manifest.ini\n",
            "Compiling translation addon/locale/es/LC_MESSAGES/nvda.po\n",
            "Generating translated manifest addon/locale/es/manifest.ini\n",
            "Compiling translation addon/locale/es_CO/LC_MESSAGES/nvda.po\n",
            "Generating translated manifest addon/locale/es_CO/manifest.ini\n",
            "Compiling translation addon/locale/fi/LC_MESSAGES/nvda.po\n",
            "Generating translated manifest addon/locale/fi/manifest.ini\n",
            "Compiling translation addon/locale/fr/LC_MESSAGES/nvda.po\n",
            "Generating translated manifest addon/locale/fr/manifest.ini\n",
            "Compiling translation addon/locale/gl/LC_MESSAGES/nvda.po\n",
            "Generating translated manifest addon/locale/gl/manifest.ini\n",
            "Compiling translation addon/locale/he/LC_MESSAGES/nvda.po\n",
            "Generating translated manifest addon/locale/he/manifest.ini\n",
            "Compiling translation addon/locale/hr/LC_MESSAGES/nvda.po\n",
            "Generating translated manifest addon/locale/hr/manifest.ini\n",
            "Compiling translation addon/locale/hu/LC_MESSAGES/nvda.po\n",
            "Generating translated manifest addon/locale/hu/manifest.ini\n",
            "Compiling translation addon/locale/it/LC_MESSAGES/nvda.po\n",
            "Generating translated manifest addon/locale/it/manifest.ini\n",
            "Compiling translation addon/locale/ja/LC_MESSAGES/nvda.po\n",
            "Generating translated manifest addon/locale/ja/manifest.ini\n",
            "Compiling translation addon/locale/ne/LC_MESSAGES/nvda.po\n",
            "Generating translated manifest addon/locale/ne/manifest.ini\n",
            "Compiling translation addon/locale/nl/LC_MESSAGES/nvda.po\n",
            "Generating translated manifest addon/locale/nl/manifest.ini\n",
            "Compiling translation addon/locale/pl/LC_MESSAGES/nvda.po\n",
            "Generating translated manifest addon/locale/pl/manifest.ini\n",
            "Compiling translation addon/locale/pt_BR/LC_MESSAGES/nvda.po\n",
            "Generating translated manifest addon/locale/pt_BR/manifest.ini\n",
            "Compiling translation addon/locale/pt_PT/LC_MESSAGES/nvda.po\n",
            "Generating translated manifest addon/locale/pt_PT/manifest.ini\n",
            "Compiling translation addon/locale/ro/LC_MESSAGES/nvda.po\n",
            "Generating translated manifest addon/locale/ro/manifest.ini\n",
            "Compiling translation addon/locale/ru/LC_MESSAGES/nvda.po\n",
            "Generating translated manifest addon/locale/ru/manifest.ini\n",
            "Compiling translation addon/locale/sk/LC_MESSAGES/nvda.po\n",
            "Generating translated manifest addon/locale/sk/manifest.ini\n",
            "Compiling translation addon/locale/sr/LC_MESSAGES/nvda.po\n",
            "Generating translated manifest addon/locale/sr/manifest.ini\n",
            "Compiling translation addon/locale/ta/LC_MESSAGES/nvda.po\n",
            "Generating translated manifest addon/locale/ta/manifest.ini\n",
            "Compiling translation addon/locale/tr/LC_MESSAGES/nvda.po\n",
            "Generating translated manifest addon/locale/tr/manifest.ini\n",
            "Compiling translation addon/locale/uk/LC_MESSAGES/nvda.po\n",
            "Generating translated manifest addon/locale/uk/manifest.ini\n",
            "Compiling translation addon/locale/vi/LC_MESSAGES/nvda.po\n",
            "Generating translated manifest addon/locale/vi/manifest.ini\n",
            "Compiling translation addon/locale/zh_CN/LC_MESSAGES/nvda.po\n",
            "Generating translated manifest addon/locale/zh_CN/manifest.ini\n",
            "Generating manifest addon/manifest.ini\n",
            "Generating Addon emoticons-23.0.0.nvda-addon\n",
            "scons: done building targets.\n"
          ]
        }
      ]
    },
    {
      "cell_type": "code",
      "source": [
        "#@title Descargando el paquete generado\n",
        "#@markdown Ten en cuenta que siendo un complemento más grande, su descarga puede tomar un poco más de tiempo.\n",
        "from google.colab import files # descarga de archivos del equipo de colab al sistema.\n",
        "import buildVars # librería de información del complemento en preparación\n",
        "addon_filename = f\"{buildVars.addon_info['addon_name']}-{buildVars.addon_info['addon_version']}.nvda-addon\"\n",
        "if os.path.exists(addon_filename):\n",
        "    files.download(addon_filename)\n",
        "else:\n",
        "    raise Exception(\"Oh, no... parece que ubo algún problema cuando se generó el complemento, ya que no encuentro el paquete. Por favor, mira la ejecución de las celdas anteriores por si hay errores.\")\n",
        "print(\"¡Listo!\")"
      ],
      "metadata": {
        "cellView": "form",
        "id": "9j5R6jhFfN6I",
        "colab": {
          "base_uri": "https://localhost:8080/",
          "height": 34
        },
        "outputId": "4e742eb2-e12a-469c-ca71-8842d604039f"
      },
      "execution_count": 3,
      "outputs": [
        {
          "output_type": "display_data",
          "data": {
            "text/plain": [
              "<IPython.core.display.Javascript object>"
            ],
            "application/javascript": [
              "\n",
              "    async function download(id, filename, size) {\n",
              "      if (!google.colab.kernel.accessAllowed) {\n",
              "        return;\n",
              "      }\n",
              "      const div = document.createElement('div');\n",
              "      const label = document.createElement('label');\n",
              "      label.textContent = `Downloading \"${filename}\": `;\n",
              "      div.appendChild(label);\n",
              "      const progress = document.createElement('progress');\n",
              "      progress.max = size;\n",
              "      div.appendChild(progress);\n",
              "      document.body.appendChild(div);\n",
              "\n",
              "      const buffers = [];\n",
              "      let downloaded = 0;\n",
              "\n",
              "      const channel = await google.colab.kernel.comms.open(id);\n",
              "      // Send a message to notify the kernel that we're ready.\n",
              "      channel.send({})\n",
              "\n",
              "      for await (const message of channel.messages) {\n",
              "        // Send a message to notify the kernel that we're ready.\n",
              "        channel.send({})\n",
              "        if (message.buffers) {\n",
              "          for (const buffer of message.buffers) {\n",
              "            buffers.push(buffer);\n",
              "            downloaded += buffer.byteLength;\n",
              "            progress.value = downloaded;\n",
              "          }\n",
              "        }\n",
              "      }\n",
              "      const blob = new Blob(buffers, {type: 'application/binary'});\n",
              "      const a = document.createElement('a');\n",
              "      a.href = window.URL.createObjectURL(blob);\n",
              "      a.download = filename;\n",
              "      div.appendChild(a);\n",
              "      a.click();\n",
              "      div.remove();\n",
              "    }\n",
              "  "
            ]
          },
          "metadata": {}
        },
        {
          "output_type": "display_data",
          "data": {
            "text/plain": [
              "<IPython.core.display.Javascript object>"
            ],
            "application/javascript": [
              "download(\"download_57b30fbc-8cf3-4232-b046-40ca1ba9a07e\", \"emoticons-23.0.0.nvda-addon\", 597892)"
            ]
          },
          "metadata": {}
        },
        {
          "output_type": "stream",
          "name": "stdout",
          "text": [
            "¡Listo!\n"
          ]
        }
      ]
    }
  ]
}