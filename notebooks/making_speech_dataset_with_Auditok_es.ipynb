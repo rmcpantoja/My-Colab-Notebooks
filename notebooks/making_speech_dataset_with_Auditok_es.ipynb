{
  "nbformat": 4,
  "nbformat_minor": 0,
  "metadata": {
    "colab": {
      "provenance": [],
      "authorship_tag": "ABX9TyNqPF82B+DTcnjJHd5Q05Mo",
      "include_colab_link": true
    },
    "kernelspec": {
      "name": "python3",
      "display_name": "Python 3"
    },
    "language_info": {
      "name": "python"
    }
  },
  "cells": [
    {
      "cell_type": "markdown",
      "metadata": {
        "id": "view-in-github",
        "colab_type": "text"
      },
      "source": [
        "<a href=\"https://colab.research.google.com/github/rmcpantoja/My-Colab-Notebooks/blob/main/notebooks/making_speech_dataset_with_Auditok_es.ipynb\" target=\"_parent\"><img src=\"https://colab.research.google.com/assets/colab-badge.svg\" alt=\"Open In Colab\"/></a>"
      ]
    },
    {
      "cell_type": "markdown",
      "source": [
        "# Cuaderno Colab para fragmentar audio con[auditok](https://github.com/amsehili/auditok).\n",
        "## Muy útil para hacer conjuntos de datos de voz de forma automática\n",
        "\n",
        "Cuaderno hecho por [rmcpantoja](https://github.com/rmcpantoja/)"
      ],
      "metadata": {
        "id": "RUpOBNfXt79D"
      }
    },
    {
      "cell_type": "markdown",
      "source": [
        "## Primeros pasos"
      ],
      "metadata": {
        "id": "ASuLUsYBviXd"
      }
    },
    {
      "cell_type": "code",
      "source": [
        "#@title Montar tu Google Drive\n",
        "#@markdown Esto será útil si quieres guardar tu conjunto de datos generado a tu [drive](http://drive.google.com/).\n",
        "from google.colab import drive\n",
        "drive.mount('drive', force_remount=True)"
      ],
      "metadata": {
        "cellView": "form",
        "id": "gcrCdgVzvoC3"
      },
      "execution_count": null,
      "outputs": []
    },
    {
      "cell_type": "code",
      "source": [
        "#@title instalar software\n",
        "#@markdown Aquí instalaremos y actualizaremos los paquetes de pip para Python, así como el repositorio de la herramienta, que es lo más importante.\n",
        "\n",
        "#@markdown * Nota: por favor, reinicia el entorno de jecución cuando la celda termine de ejecutarse, caso contrario obtendremos errores durante el proceso.\n",
        "\n",
        "!git clone https://github.com/amsehili/auditok.git\n",
        "%cd auditok\n",
        "!python setup.py install\n",
        "%cd ..\n",
        "!pip install --upgrade gdown\n",
        "!pip install yt-dlp pydub\n",
        "\n",
        "!mkdir project"
      ],
      "metadata": {
        "cellView": "form",
        "id": "-dWKuapKwWyU"
      },
      "execution_count": null,
      "outputs": []
    },
    {
      "cell_type": "markdown",
      "source": [
        "## Comenzando a interactuar con la herramienta"
      ],
      "metadata": {
        "id": "zYjywyzYyZKN"
      }
    },
    {
      "cell_type": "code",
      "source": [
        "from google.colab import files\n",
        "import yt_dlp\n",
        "\n",
        "def download_from_youtube(yt_url):\n",
        "  ydl_opts = {\n",
        "      'format': 'bestaudio/best',\n",
        "      'postprocessors': [{\n",
        "          'key': 'FFmpegExtractAudio',\n",
        "          'preferredcodec': 'wav',\n",
        "          'preferredquality': '320',\n",
        "      }],\n",
        "  }\n",
        "\n",
        "  with yt_dlp.YoutubeDL(ydl_opts) as ydl:\n",
        "      ydl.download([yt_url])\n",
        "\n",
        "#@title Obtener datos de audio de la voz deseada\n",
        "\n",
        "#@markdown Actualmente, hay tres formas de obtener audio de voz:\n",
        "#@markdown * Descargar desde YouTube: Con esta opción podrás descargar multimedia de YouTube y muchos sitios como Facebook y más.\n",
        "#@markdown * Descargar mediante ID de Google Drive: Te permite descargar el audio exclusivamente desde Drive.\n",
        "#@markdown * Subir: Aparecerá un marco donde te permitirá cargar el archivo de audio a colab.\n",
        "\n",
        "#@markdown En el campo \"input\", tendrás que ingresar un enlace o ID de Drive. Al seleccionar la opción \"subir\", este campo no se tendrá en cuenta. Sin embargo, puedes omitir esta celda si vas a subir un audio en el panel izquierdo en colab.\n",
        "\n",
        "#@markdown **Selecciona la forma en la que te gustaría obtener el audio:**\n",
        "mode = \"descargar mediante un ID de Drive\" #@param [\"descargar desde youtube (yt-dlp)\", \"descargar mediante un ID de Drive\", \"Subir\"]\n",
        "input = \"Enlace o ID a descargar\" #@param {type:\"string\"}\n",
        "if mode == \"descargar desde youtube (yt-dlp)\" and \"http\" in input:\n",
        "  download_from_youtube(input)\n",
        "elif mode == \"descargar mediante un ID de Drive\" and input.startswith(\"1\"):\n",
        "  !gdown {input}\n",
        "elif mode == \"Subir\":\n",
        "  input = files.upload()\n",
        "print(\"¡Hecho!\")"
      ],
      "metadata": {
        "cellView": "form",
        "id": "ACWJvW8Gyj2L"
      },
      "execution_count": null,
      "outputs": []
    },
    {
      "cell_type": "code",
      "source": [
        "#@title Configuraciones\n",
        "#@markdown Aquí puedes hacer tus configuraciones preferidas para la herramienta, como manipular el rango de la duración de los fragmentos de audio y la detección de silencio.\n",
        "#@markdown ---\n",
        "\n",
        "#@markdown **Selecciona la duración mínima**\n",
        "min_duration = 10.0 #@param {type:\"number\"}\n",
        "#@markdown ---\n",
        "#@markdown **Selecciona la duración máxima**\n",
        "max_duration = 15.5 #@param {type:\"number\"}\n",
        "#@markdown ---\n",
        "#@markdown **Duración máxima de silencios**\n",
        "max_silence = 0.5 #@param {type:\"number\"}\n",
        "#@markdown ---\n",
        "\n",
        "#@markdown **Ajusta el humbral de detección**\n",
        "threshold = 55 #@param {type:\"integer\"}\n",
        "#@markdown ---"
      ],
      "metadata": {
        "id": "jBvCsOF26unB",
        "cellView": "form"
      },
      "execution_count": null,
      "outputs": []
    },
    {
      "cell_type": "code",
      "source": [
        "#@title ¡Hora de comenzar el trabajo!\n",
        "#@markdown Pero primero, aquí hay unas cosas para configurar la forma en que el cuaderno guardará el conjunto de datos:\n",
        "\n",
        "#@markdown **Ubicación del archivo de audio previamente descargado o subido que contiene la voz**\n",
        "audio_dir = \"audio.wav\" #@param {type:\"string\"}\n",
        "#@markdown ---\n",
        "\n",
        "#@markdown **¿Comprimir como un archivo zip?**\n",
        "compress = True #@param {type:\"boolean\"}\n",
        "#@markdown ---\n",
        "\n",
        "#@markdown **Si se va a comprimir como un archivo zip, ¿Dónde guardarlo?**\n",
        "export_dir = \"/content/drive/MyDrive/voice1\" #@param {type:\"string\"}\n",
        "#@markdown ---\n",
        "import auditok\n",
        "print(\"Dividiendo audio... esto puede llevar un poco de tiempo.\\n\")\n",
        "# split returns a generator of AudioRegion objects\n",
        "audio_regions = auditok.split(\n",
        "    audio_dir,\n",
        "    min_dur=min_duration,     # minimum duration of a valid audio event in seconds\n",
        "    max_dur=max_duration,       # maximum duration of an event\n",
        "    max_silence=max_silence, # maximum duration of tolerated continuous silence within an event\n",
        "    energy_threshold=threshold # threshold of detection\n",
        ")\n",
        "\n",
        "for i, r in enumerate(audio_regions):\n",
        "\n",
        "    # Regions returned by `split` have 'start' and 'end' metadata fields\n",
        "    #print(\"Region {i}: {r.meta.start:.3f}s -- {r.meta.end:.3f}s\".format(i=i, r=r))\n",
        "\n",
        "    # play detection\n",
        "    # r.play(progress_bar=True)\n",
        "\n",
        "    # region's metadata can also be used with the `save` method\n",
        "    # (no need to explicitly specify region's object and `format` arguments)\n",
        "    filename = r.save(\"project/region_{meta.start:.3f}-{meta.end:.3f}.wav\")\n",
        "    #print(\"region saved as: {}\".format(filename))\n",
        "import os\n",
        "n_wavs = len(os.listdir(\"/content/project\"))\n",
        "print(f\"¡Hecho! La división se ha realizado en {n_wavs} audios.\")\n",
        "if compress:\n",
        "  print(\"Comprimiendo audios...\\n\")\n",
        "  import os\n",
        "  if not os.path.exists(export_dir):\n",
        "    os.makedirs(export_dir)\n",
        "  import shutil\n",
        "  shutil.make_archive(export_dir+\"/wavs\", 'zip', '/content/project')\n",
        "  print(\"¡Compresión finalizada!\")\n",
        "print(\"Todas las tareas finalizadas.\")"
      ],
      "metadata": {
        "cellView": "form",
        "id": "d5snHFdX9dcb"
      },
      "execution_count": null,
      "outputs": []
    },
    {
      "cell_type": "markdown",
      "source": [
        "# Cuadernos relacionados\n",
        "\n",
        "¿Te gustaría transcribir estos audios? ¡Usa el cuaderno de transcripción de Whisper!\n",
        "\n",
        "* [Cuaderno en Español](https://colab.research.google.com/github/rmcpantoja/My-Colab-Notebooks/blob/main/notebooks/OpenAI%20Whisper%20-%20DotCSV%20(Speech%20dataset%20multi-transcryption%20support)es.ipynb)\n",
        "* [Cuaderno en Francés](https://colab.research.google.com/github/rmcpantoja/My-Colab-Notebooks/blob/main/notebooks/OpenAI%20Whisper%20-%20DotCSV%20(Speech%20dataset%20multi-transcryption%20support)fr.ipynb)\n",
        "* [Cuaderno en Inglés](https://colab.research.google.com/github/rmcpantoja/My-Colab-Notebooks/blob/main/notebooks/OpenAI%20Whisper%20-%20DotCSV%20(Speech%20dataset%20multi-transcryption%20support)en.ipynb)"
      ],
      "metadata": {
        "id": "k1NJfQJTGB9O"
      }
    }
  ]
}