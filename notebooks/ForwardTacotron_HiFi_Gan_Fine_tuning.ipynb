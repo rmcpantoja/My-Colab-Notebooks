{
  "nbformat": 4,
  "nbformat_minor": 0,
  "metadata": {
    "colab": {
      "provenance": [],
      "authorship_tag": "ABX9TyP3G//27owRuqxfs6YL+d7/",
      "include_colab_link": true
    },
    "kernelspec": {
      "name": "python3",
      "display_name": "Python 3"
    },
    "language_info": {
      "name": "python"
    }
  },
  "cells": [
    {
      "cell_type": "markdown",
      "metadata": {
        "id": "view-in-github",
        "colab_type": "text"
      },
      "source": [
        "<a href=\"https://colab.research.google.com/github/rmcpantoja/My-Colab-Notebooks/blob/main/notebooks/ForwardTacotron_HiFi_Gan_Fine_tuning.ipynb\" target=\"_parent\"><img src=\"https://colab.research.google.com/assets/colab-badge.svg\" alt=\"Open In Colab\"/></a>"
      ]
    },
    {
      "cell_type": "markdown",
      "source": [
        "# [ForwardTacotron](https://github.com/as-ideas/ForwardTacotron) and [hifi-gan](https://github.com/jik876/hifi-gan) Fine tuning notebook.\n",
        "\n",
        "Notebook made by [rmcpantoja](https://github.com/rmcpantoja/)\n",
        "\n",
        "## Credits:\n",
        "\n",
        "* HiFi-GAN modification by [SortAnon](https://github.com/SortAnon/hifi-gan)\n",
        "* This notebook is based on the [notebook of the FakeYou team](https://colab.research.google.com/github/justinjohn0306/FakeYou-Tacotron2-Notebook/blob/main/FakeYou_HiFi_GAN_Fine_Tuning.ipynb) by `Cookie PPP` and `Justinjohn03`."
      ],
      "metadata": {
        "id": "EojtujCm6Brq"
      }
    },
    {
      "cell_type": "markdown",
      "source": [
        "## First steps"
      ],
      "metadata": {
        "id": "c528VC6x-gO8"
      }
    },
    {
      "cell_type": "code",
      "source": [
        "#@title Check GPU\n",
        "#@markdown You need a tesla t4 minimum.\n",
        "!nvidia-smi"
      ],
      "metadata": {
        "cellView": "form",
        "id": "ClqZJhn2-srQ"
      },
      "execution_count": null,
      "outputs": []
    },
    {
      "cell_type": "code",
      "source": [
        "#@title Mount Google Drive\n",
        "#@markdown This is useful to import data needed for fine tuning in HiFi-GAN and export the training of these fine tuned models.\n",
        "from google.colab import drive\n",
        "drive.mount('/content/drive', force_remount=True)"
      ],
      "metadata": {
        "cellView": "form",
        "id": "t0SDvglb_Lqo"
      },
      "execution_count": null,
      "outputs": []
    },
    {
      "cell_type": "code",
      "source": [
        "#@title Install software\n",
        "#@markdown This cell installs ForwardTacotron, HiFi-GAN and some dependencies needed to execute the tasks.\n",
        "#@markdown #### Use version 3.2 of ForwardTacotron?\n",
        "\n",
        "#@markdown Version 3.2 is the last to contain only single speaker support.\n",
        "only_singlespeaker_version = True #@param {type:\"boolean\"}\n",
        "#@markdown ---\n",
        "%cd /content\n",
        "!git clone https://github.com/as-ideas/ForwardTacotron.git\n",
        "!git clone https://github.com/SortAnon/hifi-gan.git\n",
        "# rollback to last single speaker version (tag v3.2)\n",
        "%cd ./ForwardTacotron\n",
        "if only_singlespeaker_version.\n",
        "  !git checkout 632b453c6cb6d15dfe4dd168cd60c60e56731829\n",
        "!rm -r .git/\n",
        "# install\n",
        "!apt-get install espeak-ng\n",
        "!pip install numba==0.49.1 librosa==0.7.2 pyworld phonemizer webrtcvad PyYAML soundfile scipy tensorboard matplotlib unidecode inflect\n",
        "!pip install --upgrade gdown"
      ],
      "metadata": {
        "cellView": "form",
        "id": "S4Q8Y_E4AIHb"
      },
      "execution_count": null,
      "outputs": []
    },
    {
      "cell_type": "markdown",
      "source": [
        "## Data and training"
      ],
      "metadata": {
        "id": "QAUoz9_HAypx"
      }
    },
    {
      "cell_type": "code",
      "source": [
        "#@title set data paths\n",
        "!mkdir /content/ForwardTacotron/wavs\n",
        "#@markdown #### Preprocessed dataset path (data and config):\n",
        "project = \"/content/drive/MyDrive/auronsesion.zip\" #@param {type:\"string\"}\n",
        "print(\"Extracting pre-processed dataset...\")\n",
        "!unzip -q \"$project\" -d /content/ForwardTacotron\n",
        "#@markdown ---\n",
        "#@markdown #### Audio dataset path (in zip format):\n",
        "audio_dataset = \"/content/drive/MyDrive/Fakeyou/AURON/wavs.zip\" #@param {type:\"string\"}\n",
        "print(\"Extracting audio...\")\n",
        "!unzip -q \"$audio_dataset\" -d /content/ForwardTacotron/wavs\n",
        "#@markdown ---\n",
        "#@markdown #### Folder where the Tacotron or ForwardTacotron checkpoints are located\n",
        "checkpoints_dir = \"/content/drive/MyDrive/ForwardTacotron/checkpoints\" #@param {type:\"string\"}\n",
        "!cp -r \"$checkpoints_dir\" /content/ForwardTacotron\n",
        "#@markdown ---\n",
        "#@markdown #### Paths of the train and validation filelists\n",
        "train_filelist = \"/content/drive/MyDrive/Fakeyou/AURON/list.txt\" #@param {type:\"string\"}\n",
        "val_filelist = \"/content/drive/MyDrive/Fakeyou/AURON/list.txt\" #@param {type:\"string\"}\n",
        "#@markdown ---\n"
      ],
      "metadata": {
        "cellView": "form",
        "id": "-cf5ABtXA9yW"
      },
      "execution_count": null,
      "outputs": []
    },
    {
      "cell_type": "code",
      "source": [
        "#@title Create ground truth aligned Dataset\n",
        "#@markdown With this dataset, HiFi-GAN can distinguish the sound of the model to be aligned with the original wavs to adapt their sound.\n",
        "\n",
        "#@markdown ---\n",
        "%cd /content/ForwardTacotron\n",
        "# create GTA features for:\n",
        "#@markdown #### Select the model you would like to work on:\n",
        "GTA_model = \"forward\" #@param [\"forward\", \"tacotron\"]\n",
        "#@markdown ---\n",
        "!python train_{GTA_model}.py --force_gta"
      ],
      "metadata": {
        "cellView": "form",
        "id": "Z3E6cAI1u968"
      },
      "execution_count": null,
      "outputs": []
    },
    {
      "cell_type": "code",
      "source": [
        "#@title Train HiFi-GAN\n",
        "%cd /content/hifi-gan\n",
        "\n",
        "import os\n",
        "import shutil\n",
        "#@markdown #### Desired name for the model\n",
        "model_name = \"auron\" #@param {type:\"string\"}\n",
        "#@markdown ---\n",
        "#@markdown #### Output directory. (recommended to save it on drive)\n",
        "output_dir = \"/content/drive/My Drive/forward_finetune\"  #@param {type:\"string\"}\n",
        "savedir = output_dir+\"/\"+model_name\n",
        "#@markdown ---\n",
        "#@markdown #### Step interval to save models\n",
        "checkpoint_interval = 250 #@param {type:\"integer\"}\n",
        "#@markdown ---\n",
        "import gdown\n",
        "d = 'https://drive.google.com/uc?id='\n",
        "os.chdir('/content/hifi-gan')\n",
        "# copy fine tune dataset:\n",
        "if os.path.exists(\"/content/hifi-gan/ft_dataset\"):\n",
        "    shutil.rmtree(\"/content/hifi-gan/ft_dataset\")\n",
        "shutil.copytree(\"/content/ForwardTacotron/data/gta\", \"/content/hifi-gan/ft_dataset/wavs/\")\n",
        "if os.path.exists(\"/content/hifi-gan/wavs\"):\n",
        "    shutil.rmtree(\"/content/hifi-gan/wavs\")\n",
        "shutil.copytree(\"/content/ForwardTacotron/wavs/\", \"/content/hifi-gan/wavs/\")\n",
        "shutil.copyfile(train_filelist, \"/content/hifi-gan/training.txt\")\n",
        "shutil.copyfile(val_filelist, \"/content/hifi-gan/validation.txt\")\n",
        "\n",
        "if not os.path.exists(savedir):\n",
        "    os.makedirs(savedir)\n",
        "if not os.path.exists(os.path.join(savedir, \"do_00000000\")):\n",
        "    print(\"Downloading universal model...\")\n",
        "    gdown.download(d+\"1O63eHZR9t1haCdRHQcEgMfMNxiOciSru\", os.path.join(savedir, \"do_00000000\"), quiet=False)\n",
        "    gdown.download(d+\"1qpgI41wNXFcH-iKq1Y42JlBC9j0je8PW\", os.path.join(savedir, \"g_00000000\"), quiet=False)\n",
        "    start_from_universal = \"--warm_start True \"\n",
        "else:\n",
        "    start_from_universal = \"\"\n",
        "\n",
        "\n",
        "!python train.py --fine_tuning True --config config_v1b.json \\{start_from_universal}\\\n",
        "--checkpoint_interval {checkpoint_interval} --checkpoint_path \"{savedir}\" \\\n",
        "--input_training_file \"/content/hifi-gan/training.txt\" \\\n",
        "--input_validation_file \"/content/hifi-gan/validation.txt\" \\\n",
        "--input_wavs_dir \"\" --input_mels_dir \"ft_dataset\"\n",
        "\n",
        "\n"
      ],
      "metadata": {
        "cellView": "form",
        "id": "yDwpxHTkxbEw"
      },
      "execution_count": null,
      "outputs": []
    }
  ]
}